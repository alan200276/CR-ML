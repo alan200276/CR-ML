{
 "cells": [
  {
   "cell_type": "markdown",
   "id": "latin-vampire",
   "metadata": {},
   "source": [
    "# CR ML Road Map\n",
    "\n",
    "\n",
    "- Step 1:\n",
    "    - Transfrom Mock Data from Text File to Numpy Dataframe \n",
    "- Step 2:\n",
    "    - ReCalculate Normalized Factor for Mock Data\n",
    "- Step 3:\n",
    "    - Machine Learning\n",
    "        - using whole data to train\n",
    "        - retrain the model with the data in 6 $\\sigma$ CL region \n",
    "- Step 4:\n",
    "   - Create pseudo data from pseudo experiment based on the uncertainty from experimental data\n",
    "- Step 5:\n",
    "   - Using retrained model to predict the parameter for pseudo data\n",
    "- Step 6:\n",
    "    - Send predicted parameters back to GALPROP for MC simulation\n",
    "- Step 7:\n",
    "    - TBA\n",
    "- Step 8:\n",
    "    - TBA\n",
    "- Step 9:\n",
    "    - TBA"
   ]
  },
  {
   "cell_type": "markdown",
   "id": "baking-cruise",
   "metadata": {},
   "source": [
    "## Import Packages"
   ]
  },
  {
   "cell_type": "code",
   "execution_count": 1,
   "id": "prospective-senegal",
   "metadata": {},
   "outputs": [
    {
     "name": "stdout",
     "output_type": "stream",
     "text": [
      "Tensorflow Version is 2.4.1\n",
      "Keras Version is 2.4.0\n",
      "1 Physical GPUs, 1 Logical GPU\n",
      "Fri Aug  6 03:24:38 2021       \n",
      "+-----------------------------------------------------------------------------+\n",
      "| NVIDIA-SMI 455.23.04    Driver Version: 455.23.04    CUDA Version: 11.1     |\n",
      "|-------------------------------+----------------------+----------------------+\n",
      "| GPU  Name        Persistence-M| Bus-Id        Disp.A | Volatile Uncorr. ECC |\n",
      "| Fan  Temp  Perf  Pwr:Usage/Cap|         Memory-Usage | GPU-Util  Compute M. |\n",
      "|                               |                      |               MIG M. |\n",
      "|===============================+======================+======================|\n",
      "|   0  GeForce RTX 3090    Off  | 00000000:E1:00.0 Off |                  N/A |\n",
      "| 42%   51C    P2   114W / 350W |   3519MiB / 24268MiB |     12%      Default |\n",
      "|                               |                      |                  N/A |\n",
      "+-------------------------------+----------------------+----------------------+\n",
      "                                                                               \n",
      "+-----------------------------------------------------------------------------+\n",
      "| Processes:                                                                  |\n",
      "|  GPU   GI   CI        PID   Type   Process name                  GPU Memory |\n",
      "|        ID   ID                                                   Usage      |\n",
      "|=============================================================================|\n",
      "+-----------------------------------------------------------------------------+\n"
     ]
    }
   ],
   "source": [
    "from __future__ import absolute_import, division, print_function, unicode_literals\n",
    "# basic python package\n",
    "import importlib\n",
    "import numpy as np\n",
    "import time\n",
    "import logging\n",
    "importlib.reload(logging)\n",
    "logging.basicConfig(level = logging.INFO)\n",
    "\n",
    "# python ploting packages\n",
    "import matplotlib.pyplot as plt\n",
    "from matplotlib.ticker import MaxNLocator\n",
    "from matplotlib.colors import ListedColormap, LinearSegmentedColormap, BoundaryNorm\n",
    "from matplotlib.collections import LineCollection\n",
    "from matplotlib import cm\n",
    "\n",
    "\n",
    "# self-define classes\n",
    "from script import CR_ML_Class as CR\n",
    "from script import load_mock_data as LD\n",
    "\n",
    "\n",
    "# tensorflow\n",
    "import tensorflow as tf\n",
    "from tensorflow.keras.models import Sequential, load_model\n",
    "print(\"Tensorflow Version is {}\".format(tf.__version__))\n",
    "print(\"Keras Version is {}\".format(tf.keras.__version__))\n",
    "\n",
    "# limit GPU memory\n",
    "gpus = tf.config.experimental.list_physical_devices('GPU')\n",
    "# if gpus:\n",
    "#   # Restrict TensorFlow to only use the first GPU\n",
    "try:\n",
    "    tf.config.experimental.set_visible_devices(gpus[0], 'GPU')\n",
    "    tf.config.experimental.set_virtual_device_configuration(\n",
    "    gpus[0],\n",
    "    [tf.config.experimental.VirtualDeviceConfiguration(memory_limit=1000)])\n",
    "    logical_gpus = tf.config.experimental.list_logical_devices('GPU')\n",
    "    print(len(gpus), \"Physical GPUs,\", len(logical_gpus), \"Logical GPU\")\n",
    "except RuntimeError as e:\n",
    "# Visible devices must be set before GPUs have been initialized\n",
    "    print(e)\n",
    "!nvidia-smi"
   ]
  },
  {
   "cell_type": "markdown",
   "id": "cooperative-hayes",
   "metadata": {},
   "source": [
    "## Transfrom Mock Data from Text File to Numpy Dataframe \n",
    "\n",
    "- Data Description:\n",
    "\n",
    "\n",
    "    - parameter : propagation and source parameters \n",
    "        numpy shape: (# of mock data, 14)\n",
    "            #parameter: original parameter \n",
    "            #new_parameter: recalculate the normal factor and Ap \n",
    "\n",
    "            raw1=D_0, \n",
    "            raw2=\\delta, \n",
    "            raw3=z_h, \n",
    "            raw4=v_A, \n",
    "            raw5=\\eta, \n",
    "            raw6=A_p, \n",
    "            raw7=\\nu_1, \n",
    "            raw8=\\nu_2, \n",
    "            raw9=log10(R_{br,1}), \n",
    "            raw10=\\nu_3, \n",
    "            raw11=log10(R_{br,2}), \n",
    "            raw12=N_{Li}, \n",
    "            raw13=N_{Be}, \n",
    "            raw14=N_{O}\n",
    "\n",
    "\n",
    "    - data: Mock data\n",
    "        numpy shape: (# of mock data, 84, 6)\n",
    "            84 means there are 84 energy bins from 1.000e-03 to 1.105e+05\n",
    "            6 means there are the spectrum for E, Li, Be, B, C, O\n",
    "            #data_0: original mocak data\n",
    "            #modify_data_0: reshape data accroding to recalculated parameters\n",
    "\n",
    "\n",
    "     - chi: chi-square \n",
    "        numpy shape: (# of mock data)\n",
    "            #new_chi: chi-square from \"modify_data\""
   ]
  },
  {
   "cell_type": "code",
   "execution_count": 2,
   "id": "hybrid-integration",
   "metadata": {},
   "outputs": [
    {
     "name": "stderr",
     "output_type": "stream",
     "text": [
      "INFO:root:Fri Aug 06 03:29:21 2021\n",
      "INFO:root:Now loading...\n",
      "INFO:root:Total data: 30000\n",
      "INFO:root:\u001b[3;33mTime consumption : 0.4290 min\u001b[0;m\n",
      "INFO:root:Data Shape for 'parameter': (30000, 15)\n",
      "INFO:root:Data Shape for 'data': (2520000, 11)\n",
      "INFO:root:Data Shape for 'chisq': (30000,)\n"
     ]
    },
    {
     "name": "stdout",
     "output_type": "stream",
     "text": [
      "CPU times: user 25.5 s, sys: 743 ms, total: 26.2 s\n",
      "Wall time: 26.2 s\n"
     ]
    }
   ],
   "source": [
    "%%time\n",
    "text_Data_path = \"../Data/Text_Mock_data/\"\n",
    "\n",
    "# mockdata_1 = CR.Mock_Data_to_NumpyArray(text_Data_path + \"res_3x_1.txt\")\n",
    "mockdata_1 = CR.Mock_Data_to_NumpyArray(text_Data_path + \"return_4.txt\")\n",
    "origin_parameter, data, chisq = mockdata_1.parameter, mockdata_1.spectrum, mockdata_1.chisq\n",
    "\n",
    "logging.info(\"Data Shape for 'parameter': {}\".format(origin_parameter.shape))\n",
    "logging.info(\"Data Shape for 'data': {}\".format(data.shape))\n",
    "logging.info(\"Data Shape for 'chisq': {}\".format(chisq.shape))"
   ]
  },
  {
   "cell_type": "markdown",
   "id": "proper-shape",
   "metadata": {},
   "source": [
    "## ReCalculate Normalized Factor for Mock Data\n",
    "\n",
    "- 1: Using   \n",
    "    `CR.Mock_Data_Rescale(parameter, parameter, data)`   \n",
    "    to split 'data' into Li, Be, B, C and O `spectra`.  \n",
    "    Note that we put the same 'parameter' here because we have not get new normalized factor yet\n",
    "    \n",
    "    - `spectra`: Mock data\n",
    "        numpy shape: (# of mock data, 84, 6)\n",
    "            84 means there are 84 energy bins from 1.000e-03 to 1.105e+05\n",
    "            6 means there are the spectrum for E, Li, Be, B, C, O\n",
    "            #data_0: original mocak data\n",
    "            #modify_data_0: reshape data accroding to recalculated paramete"
   ]
  },
  {
   "cell_type": "code",
   "execution_count": 3,
   "id": "beautiful-encoding",
   "metadata": {},
   "outputs": [
    {
     "name": "stderr",
     "output_type": "stream",
     "text": [
      "INFO:root:Data Shape for 'spectra_data': (30000, 84, 6)\n",
      "INFO:root:There are 30000 mock data.\n",
      "INFO:root:For each mock data, there are 84 energy bins.\n",
      "INFO:root:6 corresponding to E, Li, Be, B, C and O.\n"
     ]
    },
    {
     "name": "stdout",
     "output_type": "stream",
     "text": [
      "CPU times: user 179 ms, sys: 2.18 ms, total: 181 ms\n",
      "Wall time: 178 ms\n"
     ]
    }
   ],
   "source": [
    "%%time\n",
    "spectra_data = CR.Mock_Data_Rescale(origin_parameter=origin_parameter, new_parameter=origin_parameter, spectrum=data, usedata=False)\n",
    "logging.info(\"Data Shape for 'spectra_data': {}\".format(spectra_data.data.shape))\n",
    "logging.info(\"There are {} mock data.\".format(spectra_data.data.shape[0]))\n",
    "logging.info(\"For each mock data, there are {} energy bins.\".format(spectra_data.data.shape[1]))\n",
    "logging.info(\"{} corresponding to E, Li, Be, B, C and O.\".format(spectra_data.data.shape[2]))"
   ]
  },
  {
   "cell_type": "markdown",
   "id": "digital-scoop",
   "metadata": {},
   "source": [
    "- 2: Using  \n",
    "`CR.ReCalculateAp(spectra_data.data)`   \n",
    "  to recalculate Ap"
   ]
  },
  {
   "cell_type": "code",
   "execution_count": 4,
   "id": "primary-institution",
   "metadata": {},
   "outputs": [
    {
     "name": "stderr",
     "output_type": "stream",
     "text": [
      "INFO:root:Fri Aug 06 03:29:47 2021\n",
      "INFO:root:Finding best Ap\n",
      "INFO:root:=====START=====\n",
      "100%|██████████| 100/100 [00:00<00:00, 101.06it/s]\n",
      "INFO:root:\u001b[3;33m Time Cost for this Step : 0.0166 min\u001b[0;m\n",
      "INFO:root:=====Finish=====\n",
      "INFO:root:\u001b[3;33mTime Cost : 0.0167 min\u001b[0;m\n"
     ]
    },
    {
     "name": "stdout",
     "output_type": "stream",
     "text": [
      "CPU times: user 1.01 s, sys: 7.51 ms, total: 1.01 s\n",
      "Wall time: 1.01 s\n"
     ]
    }
   ],
   "source": [
    "%%time\n",
    "importlib.reload(CR)\n",
    "new_Ap = CR.ReCalculateAp(spectra_data.data[:100]) \n",
    "new_Ap.GetBestAp()"
   ]
  },
  {
   "cell_type": "markdown",
   "id": "earlier-coalition",
   "metadata": {},
   "source": [
    "- 3: Using   \n",
    "`CR.ReCalculateN((spectra_data.new_parameter,spectra_data.data,ap=new_Ap.ap_5))`  \n",
    "to recalculate normalized factor ($N_{Li}$, $N_{Be}$ and $N_{O}$)"
   ]
  },
  {
   "cell_type": "code",
   "execution_count": 5,
   "id": "ongoing-spray",
   "metadata": {},
   "outputs": [
    {
     "name": "stderr",
     "output_type": "stream",
     "text": [
      "INFO:root:Fri Aug 06 03:29:48 2021\n",
      "INFO:root:Finding New Normalized Factor\n",
      "INFO:root:=====START=====\n",
      "100%|██████████| 100/100 [00:01<00:00, 84.88it/s]\n",
      "INFO:root:\u001b[3;33m Time Cost for this Step : 0.0197 min\u001b[0;m\n",
      "INFO:root:=====Finish=====\n",
      "INFO:root:\u001b[3;33mTime Cost : 0.0198 min\u001b[0;m\n"
     ]
    },
    {
     "name": "stdout",
     "output_type": "stream",
     "text": [
      "CPU times: user 1.18 s, sys: 12.9 ms, total: 1.2 s\n",
      "Wall time: 1.19 s\n"
     ]
    }
   ],
   "source": [
    "%%time\n",
    "importlib.reload(CR)\n",
    "new_normalized_factor = CR.ReCalculateN(spectra_data.new_parameter[:100],spectra_data.data[:100],ap=new_Ap.ap_5)\n",
    "new_normalized_factor.GetBestN()"
   ]
  },
  {
   "cell_type": "markdown",
   "id": "alternative-witch",
   "metadata": {},
   "source": [
    "- 4: Using   \n",
    "    `CR.New_Parameter(spectra_data.new_parameter,new_normalized_factor.new_factor,ap_5=new_Ap.ap_5).new_parameter`\n",
    "    to get new parameter array"
   ]
  },
  {
   "cell_type": "code",
   "execution_count": 6,
   "id": "unauthorized-involvement",
   "metadata": {},
   "outputs": [
    {
     "name": "stderr",
     "output_type": "stream",
     "text": [
      "INFO:root:Fri Aug 06 03:29:49 2021\n",
      "INFO:root:\u001b[3;33mTime Cost : 0.0000 min\u001b[0;m\n"
     ]
    },
    {
     "name": "stdout",
     "output_type": "stream",
     "text": [
      "CPU times: user 1.32 ms, sys: 748 µs, total: 2.07 ms\n",
      "Wall time: 1.48 ms\n"
     ]
    }
   ],
   "source": [
    "%%time\n",
    "new_parameter = CR.New_Parameter(spectra_data.new_parameter[:100],new_normalized_factor.new_factor,ap_5=new_Ap.ap_5).new_parameter"
   ]
  },
  {
   "cell_type": "markdown",
   "id": "turned-audience",
   "metadata": {},
   "source": [
    "- 5: Put `origin_parameter` and `new_parameter` back into  \n",
    "    `CR.Mock_Data_Rescale(parameter, new_parameter, spectra_data.data,usedata = True)`  \n",
    "    to get `new parameter` array, `new data` array and new $\\chi^2$`. "
   ]
  },
  {
   "cell_type": "code",
   "execution_count": 7,
   "id": "hourly-problem",
   "metadata": {},
   "outputs": [
    {
     "name": "stderr",
     "output_type": "stream",
     "text": [
      "INFO:root:Fri Aug 06 03:29:49 2021\n",
      "INFO:root:Fit the Spectrum.\n",
      "INFO:root:=====START=====\n",
      "INFO:root:\u001b[3;33m Time Cost for this Step : 0.0000 min\u001b[0;m\n",
      "INFO:root:=====Finish=====\n",
      "INFO:root:Calculate Chi-Square.\n",
      "INFO:root:=====START=====\n",
      "INFO:root:\u001b[3;33m Time Cost for this Step : 0.0000 min\u001b[0;m\n",
      "INFO:root:=====Finish=====\n",
      "INFO:root:\n",
      "\n",
      "INFO:root:\u001b[3;33m Total Time Consumption : 0.0002 min\u001b[0;m\n",
      "INFO:root:Data Shape for 'parameter': (100, 14)\n",
      "INFO:root:Data Shape for 'data': (100, 84, 6)\n",
      "INFO:root:Data Shape for 'chi': (100,)\n"
     ]
    },
    {
     "name": "stdout",
     "output_type": "stream",
     "text": [
      "CPU times: user 15 ms, sys: 1.99 ms, total: 17 ms\n",
      "Wall time: 14.8 ms\n"
     ]
    }
   ],
   "source": [
    "%%time\n",
    "new_spectra_data = CR.Mock_Data_Rescale(origin_parameter[:100], new_parameter, spectra_data.data[:100], usedata = True)\n",
    "\n",
    "parameter = new_spectra_data.new_parameter\n",
    "data = new_spectra_data.data\n",
    "\n",
    "chisq = CR.Calculate_Chi_Square(data=data,usedata=True) \n",
    "chi = chisq.chi_square()\n",
    "\n",
    "logging.info(\"Data Shape for 'parameter': {}\".format(parameter.shape))\n",
    "logging.info(\"Data Shape for 'data': {}\".format(data.shape))\n",
    "logging.info(\"Data Shape for 'chi': {}\".format(chi.shape))"
   ]
  },
  {
   "cell_type": "markdown",
   "id": "unexpected-orange",
   "metadata": {},
   "source": [
    "- 6: Using  \n",
    "    `CR.Select_Sample(chi_para, chi_data, chi_sele,1).Sample()`  \n",
    "    to seperate data into different CL region."
   ]
  },
  {
   "cell_type": "code",
   "execution_count": 8,
   "id": "dependent-performer",
   "metadata": {},
   "outputs": [
    {
     "name": "stderr",
     "output_type": "stream",
     "text": [
      "INFO:root:There are 5 data in the 1 σ region.\n",
      "INFO:root:\u001b[3;33mTime consumption : 0.0000 min\u001b[0;m\n",
      "INFO:root:There are 9 data in the 2 σ region.\n",
      "INFO:root:\u001b[3;33mTime consumption : 0.0000 min\u001b[0;m\n",
      "INFO:root:There are 20 data in the 3 σ region.\n",
      "INFO:root:\u001b[3;33mTime consumption : 0.0000 min\u001b[0;m\n",
      "INFO:root:There are 35 data in the 4 σ region.\n",
      "INFO:root:\u001b[3;33mTime consumption : 0.0000 min\u001b[0;m\n",
      "INFO:root:There are 46 data in the 5 σ region.\n",
      "INFO:root:\u001b[3;33mTime consumption : 0.0000 min\u001b[0;m\n",
      "INFO:root:There are 65 data in the 6 σ region.\n",
      "INFO:root:\u001b[3;33mTime consumption : 0.0000 min\u001b[0;m\n"
     ]
    },
    {
     "name": "stdout",
     "output_type": "stream",
     "text": [
      "CPU times: user 11.9 ms, sys: 2.28 ms, total: 14.2 ms\n",
      "Wall time: 11.3 ms\n"
     ]
    }
   ],
   "source": [
    "%%time\n",
    "importlib.reload(CR)\n",
    "chi_para, chi_data, chi_sele = parameter, data, chi\n",
    "\n",
    "para_1_sigma, data_1_sigma, _ =  CR.Select_Sample(chi_para, chi_data, chi_sele,1).Sample()\n",
    "para_2_sigma, data_2_sigma, _ =  CR.Select_Sample(chi_para, chi_data, chi_sele,2).Sample()\n",
    "para_3_sigma, data_3_sigma, _ =  CR.Select_Sample(chi_para, chi_data, chi_sele,3).Sample()\n",
    "para_4_sigma, data_4_sigma, _ =  CR.Select_Sample(chi_para, chi_data, chi_sele,4).Sample()\n",
    "para_5_sigma, data_5_sigma, _ =  CR.Select_Sample(chi_para, chi_data, chi_sele,5).Sample()\n",
    "para_6_sigma, data_6_sigma, _ =  CR.Select_Sample(chi_para, chi_data, chi_sele,6).Sample()"
   ]
  },
  {
   "cell_type": "markdown",
   "id": "bulgarian-python",
   "metadata": {},
   "source": [
    "# Machine Learning\n",
    "\n",
    "- 1: Using  \n",
    "     `CR.Mock_Data_Processing(parameter=parameter, data=data, usedata = True)`\n",
    "     and\n",
    "     `.Train_Test_split(splitrate = 0.1, split = True)`   \n",
    "     to whitening data and split into training and test data set with the ratio 9:1."
   ]
  },
  {
   "cell_type": "code",
   "execution_count": 9,
   "id": "active-arctic",
   "metadata": {},
   "outputs": [
    {
     "name": "stderr",
     "output_type": "stream",
     "text": [
      "INFO:root:Fri Aug 06 03:29:49 2021\n",
      "INFO:root:\u001b[3;33mPrepare Ratio\u001b[0;m\n",
      "INFO:root:Fri Aug 06 03:29:49 2021\n",
      "INFO:root:Whitening\n",
      "INFO:root:=====START=====\n",
      "INFO:root:\u001b[3;33m Time Cost for this Step : 0.0000 min\u001b[0;m\n",
      "INFO:root:=====Finish=====\n",
      "INFO:root:\u001b[3;33mTime Cost : 0.0000 min\u001b[0;m\n",
      "INFO:root:random split traning sample and test sample, 10% for test\n",
      "INFO:root:=====START=====\n",
      "INFO:root:\u001b[3;33m Time Cost for this Step : 0.0000 min\u001b[0;m\n",
      "INFO:root:=====Finish=====\n",
      "INFO:root:Shape for training Input: (90, 8, 84)\n",
      "INFO:root:Shape for  testing Input: (10, 8, 84)\n",
      "INFO:root:Shape for training Target: (90, 10)\n",
      "INFO:root:Shape for  testing Target: (10, 10)\n",
      "INFO:root:\u001b[3;33mTime Cost : 0.0003 min\u001b[0;m\n"
     ]
    },
    {
     "name": "stdout",
     "output_type": "stream",
     "text": [
      "CPU times: user 19 ms, sys: 3 ms, total: 22 ms\n",
      "Wall time: 18.7 ms\n"
     ]
    }
   ],
   "source": [
    "%%time\n",
    "importlib.reload(CR)\n",
    "data_processing = CR.Mock_Data_Processing(parameter=parameter, data=data, usedata = True)\n",
    "data_processing.Train_Test_split(splitrate = 0.1, split = True)\n",
    "\n",
    "input_train, input_test = data_processing.input_train, data_processing.input_test\n",
    "source_train, source_test = data_processing.source_train, data_processing.source_test\n",
    "\n"
   ]
  },
  {
   "cell_type": "markdown",
   "id": "recorded-sacramento",
   "metadata": {},
   "source": [
    "- 2:Using   \n",
    "    `ML.ML_Training(input_train,input_test,source_train,source_test,EPOCH=10, save_path=\"./\")`\n",
    "    to train a model with whole CL region."
   ]
  },
  {
   "cell_type": "code",
   "execution_count": 10,
   "id": "aging-craps",
   "metadata": {},
   "outputs": [
    {
     "name": "stderr",
     "output_type": "stream",
     "text": [
      "INFO:root:\n",
      "-----------------------------------------------------------\n",
      "\"\"python3\"\"\n",
      "\u001b[3;32m ML_Training.py \u001b[0;m\n",
      "\u001b[3;31m Usage: ML_Training(input_train,input_test,source_train,source_test,EPOCH=100,save_path=\"save_path\") \u001b[0;m\n",
      "\u001b[3;31m        Trained Model will be stroed in \"Model\" directory \u001b[0;m\n",
      "\u001b[3;31m Usage: Load_ML_ML_Training(input_train,input_test,source_train,source_test,model_path,EPOCH=250,BATCH=256,save_path=\"save_path\")\u001b[0;m\n",
      "\u001b[3;31m        Load Model for snd training \u001b[0;m\n",
      "\u001b[3;31m        Trained Model will be stroed in \"Model\" directory \u001b[0;m\n",
      "\n",
      "\n",
      "-----------------------------------------------------------\n",
      "\n",
      "INFO:root:\n",
      "-----------------------------------------------------------\n",
      "\"\"python3\"\"\n",
      "\u001b[3;32m ML_Training.py \u001b[0;m\n",
      "\u001b[3;31m Usage: ML_Training(input_train,input_test,source_train,source_test,EPOCH=100,save_path=\"save_path\") \u001b[0;m\n",
      "\u001b[3;31m        Trained Model will be stroed in \"Model\" directory \u001b[0;m\n",
      "\u001b[3;31m Usage: Load_ML_ML_Training(input_train,input_test,source_train,source_test,model_path,EPOCH=250,BATCH=256,save_path=\"save_path\")\u001b[0;m\n",
      "\u001b[3;31m        Load Model for snd training \u001b[0;m\n",
      "\u001b[3;31m        Trained Model will be stroed in \"Model\" directory \u001b[0;m\n",
      "\n",
      "\n",
      "-----------------------------------------------------------\n",
      "\n",
      "INFO:root:Fri Aug 06 03:29:49 2021\n"
     ]
    },
    {
     "name": "stdout",
     "output_type": "stream",
     "text": [
      "Model: \"Sequential\"\n",
      "_________________________________________________________________\n",
      "Layer (type)                 Output Shape              Param #   \n",
      "=================================================================\n",
      "Conv1D_input (Conv1D)        (None, 8, 512)            43520     \n",
      "_________________________________________________________________\n",
      "Conv1D_1 (Conv1D)            (None, 8, 512)            262656    \n",
      "_________________________________________________________________\n",
      "Conv1D_2 (Conv1D)            (None, 8, 256)            131328    \n",
      "_________________________________________________________________\n",
      "Conv1D_3 (Conv1D)            (None, 8, 256)            65792     \n",
      "_________________________________________________________________\n",
      "Conv1D_4 (Conv1D)            (None, 8, 128)            32896     \n",
      "_________________________________________________________________\n",
      "max_pooling1d (MaxPooling1D) (None, 4, 128)            0         \n",
      "_________________________________________________________________\n",
      "flatten (Flatten)            (None, 512)               0         \n",
      "_________________________________________________________________\n",
      "Dense_1 (Dense)              (None, 128)               65664     \n",
      "_________________________________________________________________\n",
      "Dense_2 (Dense)              (None, 128)               16512     \n",
      "_________________________________________________________________\n",
      "Dense_3 (Dense)              (None, 64)                8256      \n",
      "_________________________________________________________________\n",
      "Dense_4 (Dense)              (None, 64)                4160      \n",
      "_________________________________________________________________\n",
      "Dense_5 (Dense)              (None, 32)                2080      \n",
      "_________________________________________________________________\n",
      "Dense_out (Dense)            (None, 10)                330       \n",
      "=================================================================\n",
      "Total params: 633,194\n",
      "Trainable params: 633,194\n",
      "Non-trainable params: 0\n",
      "_________________________________________________________________\n",
      "Epoch 1/10\n",
      "3/3 [==============================] - 6s 1s/step - loss: 0.0725 - accuracy: 0.3644 - mse: 0.1569 - mae: 0.3099 - mape: 191.6101 - val_loss: 0.0201 - val_accuracy: 0.0000e+00 - val_mse: 0.0407 - val_mae: 0.1723 - val_mape: 71.8245\n",
      "\n",
      "Epoch 00001: val_loss improved from inf to 0.02006, saving model to .//Model/CR_ML_Checkpoint.h5\n",
      "Epoch 2/10\n",
      "3/3 [==============================] - 0s 34ms/step - loss: 0.0178 - accuracy: 0.1470 - mse: 0.0361 - mae: 0.1615 - mape: 194.8545 - val_loss: 0.0127 - val_accuracy: 0.6000 - val_mse: 0.0256 - val_mae: 0.1358 - val_mape: 58.8559\n",
      "\n",
      "Epoch 00002: val_loss improved from 0.02006 to 0.01268, saving model to .//Model/CR_ML_Checkpoint.h5\n",
      "Epoch 3/10\n",
      "3/3 [==============================] - 0s 120ms/step - loss: 0.0130 - accuracy: 0.6080 - mse: 0.0264 - mae: 0.1295 - mape: 88.0666 - val_loss: 0.0072 - val_accuracy: 0.6000 - val_mse: 0.0146 - val_mae: 0.0926 - val_mape: 34.8430\n",
      "\n",
      "Epoch 00003: val_loss improved from 0.01268 to 0.00722, saving model to .//Model/CR_ML_Checkpoint.h5\n",
      "Epoch 4/10\n",
      "3/3 [==============================] - 0s 44ms/step - loss: 0.0088 - accuracy: 0.5924 - mse: 0.0179 - mae: 0.1022 - mape: 165.2895 - val_loss: 0.0081 - val_accuracy: 0.6000 - val_mse: 0.0162 - val_mae: 0.1027 - val_mape: 60.1068\n",
      "\n",
      "Epoch 00004: val_loss did not improve from 0.00722\n",
      "Epoch 5/10\n",
      "3/3 [==============================] - 0s 43ms/step - loss: 0.0089 - accuracy: 0.5602 - mse: 0.0179 - mae: 0.1081 - mape: 204.4109 - val_loss: 0.0056 - val_accuracy: 0.3000 - val_mse: 0.0112 - val_mae: 0.0852 - val_mape: 33.8458\n",
      "\n",
      "Epoch 00005: val_loss improved from 0.00722 to 0.00556, saving model to .//Model/CR_ML_Checkpoint.h5\n",
      "Epoch 6/10\n",
      "3/3 [==============================] - 0s 47ms/step - loss: 0.0063 - accuracy: 0.4470 - mse: 0.0126 - mae: 0.0875 - mape: 120.3453 - val_loss: 0.0038 - val_accuracy: 0.6000 - val_mse: 0.0076 - val_mae: 0.0636 - val_mape: 18.9148\n",
      "\n",
      "Epoch 00006: val_loss improved from 0.00556 to 0.00375, saving model to .//Model/CR_ML_Checkpoint.h5\n",
      "Epoch 7/10\n",
      "3/3 [==============================] - 0s 35ms/step - loss: 0.0049 - accuracy: 0.4134 - mse: 0.0099 - mae: 0.0723 - mape: 43.8419 - val_loss: 0.0057 - val_accuracy: 0.0000e+00 - val_mse: 0.0115 - val_mae: 0.0841 - val_mape: 22.4653\n",
      "\n",
      "Epoch 00007: val_loss did not improve from 0.00375\n",
      "Epoch 8/10\n",
      "3/3 [==============================] - 0s 35ms/step - loss: 0.0060 - accuracy: 0.1793 - mse: 0.0121 - mae: 0.0852 - mape: 63.8104 - val_loss: 0.0040 - val_accuracy: 0.1000 - val_mse: 0.0080 - val_mae: 0.0674 - val_mape: 18.9276\n",
      "\n",
      "Epoch 00008: val_loss did not improve from 0.00375\n",
      "Epoch 9/10\n",
      "3/3 [==============================] - 0s 34ms/step - loss: 0.0042 - accuracy: 0.0535 - mse: 0.0084 - mae: 0.0661 - mape: 57.7325 - val_loss: 0.0035 - val_accuracy: 0.1000 - val_mse: 0.0072 - val_mae: 0.0580 - val_mape: 17.0816\n",
      "\n",
      "Epoch 00009: val_loss improved from 0.00375 to 0.00355, saving model to .//Model/CR_ML_Checkpoint.h5\n",
      "Epoch 10/10\n",
      "3/3 [==============================] - 0s 35ms/step - loss: 0.0042 - accuracy: 0.2481 - mse: 0.0085 - mae: 0.0634 - mape: 56.4683 - val_loss: 0.0035 - val_accuracy: 0.6000 - val_mse: 0.0071 - val_mae: 0.0564 - val_mape: 22.4387\n",
      "\n",
      "Epoch 00010: val_loss improved from 0.00355 to 0.00353, saving model to .//Model/CR_ML_Checkpoint.h5\n"
     ]
    },
    {
     "name": "stderr",
     "output_type": "stream",
     "text": [
      "INFO:root:accuracy: 0.60000\n",
      "INFO:root:mse: 0.00711\n",
      "INFO:root:mae: 0.05640\n",
      "INFO:root:mape: 22.43865\n",
      "INFO:root:\u001b[3;33mTime consumption : 0.1388 min\u001b[0;m\n"
     ]
    },
    {
     "name": "stdout",
     "output_type": "stream",
     "text": [
      "CPU times: user 5.35 s, sys: 2.41 s, total: 7.75 s\n",
      "Wall time: 8.34 s\n"
     ]
    }
   ],
   "source": [
    "%%time\n",
    "from script import ML_Training as ML\n",
    "importlib.reload(ML)\n",
    "\n",
    "ML.ML_Training(input_train,input_test,source_train,source_test,EPOCH=10, save_path=\"./\")"
   ]
  },
  {
   "cell_type": "markdown",
   "id": "verified-pixel",
   "metadata": {},
   "source": [
    "- 3:Using   \n",
    "    `ML.Load_ML_Training(input_train,input_test,source_train,source_test,model_path=\"./Model/CR_ML.h5\", EPOCH = 250, BATCH = 256, save_path=\"./\")`  \n",
    "    to retrain a model in 6 $\\sigma$ CL region."
   ]
  },
  {
   "cell_type": "code",
   "execution_count": 11,
   "id": "vocational-playing",
   "metadata": {},
   "outputs": [
    {
     "name": "stderr",
     "output_type": "stream",
     "text": [
      "INFO:root:Fri Aug 06 03:29:58 2021\n",
      "INFO:root:\u001b[3;33mPrepare Ratio\u001b[0;m\n",
      "INFO:root:Fri Aug 06 03:29:58 2021\n",
      "INFO:root:Whitening\n",
      "INFO:root:=====START=====\n",
      "INFO:root:\u001b[3;33m Time Cost for this Step : 0.0000 min\u001b[0;m\n",
      "INFO:root:=====Finish=====\n",
      "INFO:root:\u001b[3;33mTime Cost : 0.0001 min\u001b[0;m\n",
      "INFO:root:random split traning sample and test sample, 10% for test\n",
      "INFO:root:=====START=====\n",
      "INFO:root:\u001b[3;33m Time Cost for this Step : 0.0000 min\u001b[0;m\n",
      "INFO:root:=====Finish=====\n",
      "INFO:root:Shape for training Input: (58, 8, 84)\n",
      "INFO:root:Shape for  testing Input: (7, 8, 84)\n",
      "INFO:root:Shape for training Target: (58, 10)\n",
      "INFO:root:Shape for  testing Target: (7, 10)\n",
      "INFO:root:\u001b[3;33mTime Cost : 0.0004 min\u001b[0;m\n",
      "INFO:root:Fri Aug 06 03:29:58 2021\n"
     ]
    },
    {
     "name": "stdout",
     "output_type": "stream",
     "text": [
      "Model: \"Sequential\"\n",
      "_________________________________________________________________\n",
      "Layer (type)                 Output Shape              Param #   \n",
      "=================================================================\n",
      "Conv1D_input (Conv1D)        (None, 8, 512)            43520     \n",
      "_________________________________________________________________\n",
      "Conv1D_1 (Conv1D)            (None, 8, 512)            262656    \n",
      "_________________________________________________________________\n",
      "Conv1D_2 (Conv1D)            (None, 8, 256)            131328    \n",
      "_________________________________________________________________\n",
      "Conv1D_3 (Conv1D)            (None, 8, 256)            65792     \n",
      "_________________________________________________________________\n",
      "Conv1D_4 (Conv1D)            (None, 8, 128)            32896     \n",
      "_________________________________________________________________\n",
      "max_pooling1d (MaxPooling1D) (None, 4, 128)            0         \n",
      "_________________________________________________________________\n",
      "flatten (Flatten)            (None, 512)               0         \n",
      "_________________________________________________________________\n",
      "Dense_1 (Dense)              (None, 128)               65664     \n",
      "_________________________________________________________________\n",
      "Dense_2 (Dense)              (None, 128)               16512     \n",
      "_________________________________________________________________\n",
      "Dense_3 (Dense)              (None, 64)                8256      \n",
      "_________________________________________________________________\n",
      "Dense_4 (Dense)              (None, 64)                4160      \n",
      "_________________________________________________________________\n",
      "Dense_5 (Dense)              (None, 32)                2080      \n",
      "_________________________________________________________________\n",
      "Dense_out (Dense)            (None, 10)                330       \n",
      "=================================================================\n",
      "Total params: 633,194\n",
      "Trainable params: 633,194\n",
      "Non-trainable params: 0\n",
      "_________________________________________________________________\n",
      "Epoch 1/10\n",
      "1/1 [==============================] - 1s 932ms/step - loss: 0.0040 - accuracy: 0.6897 - mse: 0.0081 - mae: 0.0616 - mape: 53.8938 - val_loss: 0.0043 - val_accuracy: 0.4286 - val_mse: 0.0087 - val_mae: 0.0630 - val_mape: 187.2183\n",
      "\n",
      "Epoch 00001: val_loss improved from inf to 0.00430, saving model to .//Model/CR_ML_Checkpoint_2nd.h5\n",
      "Epoch 2/10\n",
      "1/1 [==============================] - 0s 491ms/step - loss: 0.0038 - accuracy: 0.6897 - mse: 0.0077 - mae: 0.0596 - mape: 56.3948 - val_loss: 0.0042 - val_accuracy: 0.4286 - val_mse: 0.0085 - val_mae: 0.0602 - val_mape: 176.1878\n",
      "\n",
      "Epoch 00002: val_loss improved from 0.00430 to 0.00419, saving model to .//Model/CR_ML_Checkpoint_2nd.h5\n",
      "Epoch 3/10\n",
      "1/1 [==============================] - 0s 52ms/step - loss: 0.0035 - accuracy: 0.6897 - mse: 0.0072 - mae: 0.0568 - mape: 53.0592 - val_loss: 0.0042 - val_accuracy: 0.4286 - val_mse: 0.0085 - val_mae: 0.0583 - val_mape: 148.9363\n",
      "\n",
      "Epoch 00003: val_loss did not improve from 0.00419\n",
      "Epoch 4/10\n",
      "1/1 [==============================] - 0s 45ms/step - loss: 0.0034 - accuracy: 0.6897 - mse: 0.0069 - mae: 0.0543 - mape: 45.4169 - val_loss: 0.0043 - val_accuracy: 0.4286 - val_mse: 0.0088 - val_mae: 0.0582 - val_mape: 112.7795\n",
      "\n",
      "Epoch 00004: val_loss did not improve from 0.00419\n",
      "Epoch 5/10\n",
      "1/1 [==============================] - 0s 44ms/step - loss: 0.0034 - accuracy: 0.6897 - mse: 0.0069 - mae: 0.0526 - mape: 35.7941 - val_loss: 0.0045 - val_accuracy: 0.4286 - val_mse: 0.0091 - val_mae: 0.0575 - val_mape: 75.4875\n",
      "\n",
      "Epoch 00005: val_loss did not improve from 0.00419\n",
      "Epoch 6/10\n",
      "1/1 [==============================] - 0s 45ms/step - loss: 0.0035 - accuracy: 0.6897 - mse: 0.0070 - mae: 0.0518 - mape: 26.9028 - val_loss: 0.0045 - val_accuracy: 0.4286 - val_mse: 0.0092 - val_mae: 0.0566 - val_mape: 48.2449\n",
      "\n",
      "Epoch 00006: val_loss did not improve from 0.00419\n",
      "Epoch 7/10\n",
      "1/1 [==============================] - 0s 66ms/step - loss: 0.0035 - accuracy: 0.6897 - mse: 0.0071 - mae: 0.0521 - mape: 21.6952 - val_loss: 0.0045 - val_accuracy: 0.4286 - val_mse: 0.0091 - val_mae: 0.0572 - val_mape: 34.8102\n",
      "\n",
      "Epoch 00007: val_loss did not improve from 0.00419\n",
      "Epoch 8/10\n",
      "1/1 [==============================] - 0s 58ms/step - loss: 0.0035 - accuracy: 0.6897 - mse: 0.0071 - mae: 0.0535 - mape: 20.3970 - val_loss: 0.0044 - val_accuracy: 0.4286 - val_mse: 0.0089 - val_mae: 0.0585 - val_mape: 32.6235\n",
      "\n",
      "Epoch 00008: val_loss did not improve from 0.00419\n",
      "Epoch 9/10\n",
      "1/1 [==============================] - 0s 55ms/step - loss: 0.0035 - accuracy: 0.6897 - mse: 0.0071 - mae: 0.0551 - mape: 20.7068 - val_loss: 0.0043 - val_accuracy: 0.4286 - val_mse: 0.0087 - val_mae: 0.0588 - val_mape: 39.2695\n",
      "\n",
      "Epoch 00009: val_loss did not improve from 0.00419\n",
      "Epoch 10/10\n",
      "1/1 [==============================] - 0s 55ms/step - loss: 0.0035 - accuracy: 0.6897 - mse: 0.0070 - mae: 0.0560 - mape: 21.6504 - val_loss: 0.0042 - val_accuracy: 0.4286 - val_mse: 0.0085 - val_mae: 0.0582 - val_mape: 50.8982\n",
      "\n",
      "Epoch 00010: val_loss did not improve from 0.00419\n"
     ]
    },
    {
     "name": "stderr",
     "output_type": "stream",
     "text": [
      "INFO:root:accuracy: 0.42857\n",
      "INFO:root:mse: 0.00847\n",
      "INFO:root:mae: 0.05817\n",
      "INFO:root:mape: 50.89824\n",
      "INFO:root:\u001b[3;33mTime consumption : 0.0462 min\u001b[0;m\n"
     ]
    }
   ],
   "source": [
    "\n",
    "data_processing = CR.Mock_Data_Processing(parameter=para_6_sigma, data=data_6_sigma, usedata = True)\n",
    "data_processing.Train_Test_split(splitrate = 0.1, split = True)\n",
    "\n",
    "input_train, input_test = data_processing.input_train, data_processing.input_test\n",
    "source_train, source_test = data_processing.source_train, data_processing.source_test\n",
    "\n",
    "\n",
    "ML.Load_ML_Training(input_train,input_test,source_train,source_test, model_path=\"./Model/CR_ML.h5\", EPOCH = 10, BATCH = 256, save_path=\"./\")"
   ]
  },
  {
   "cell_type": "markdown",
   "id": "billion-connecticut",
   "metadata": {},
   "source": [
    "## Create pseudo data from pseudo experiment based on the uncertainty from experimental data\n",
    "- 1.Using   \n",
    "    `CR.Create_Pseudodata(para_6_sigma,data_6_sigma,chi, LOW = 10 , HIGH = 100000 , number = 2000, index=0).Create_Pseudodata()`  \n",
    "    to do the pseudo experiment based on the mock data in 6 $\\sigma$ CL region."
   ]
  },
  {
   "cell_type": "code",
   "execution_count": 12,
   "id": "applicable-philadelphia",
   "metadata": {},
   "outputs": [
    {
     "name": "stderr",
     "output_type": "stream",
     "text": [
      "INFO:root:Fri Aug 06 03:30:01 2021\n",
      "INFO:root:Experimental data are loading.\n",
      "INFO:root:=====START=====\n",
      "INFO:root:\u001b[3;33m Time Cost for this Step : 0.0001 min\u001b[0;m\n",
      "INFO:root:=====Finish=====\n",
      "INFO:root:Using whitening data to make pseudodata\n",
      "INFO:root:=====START=====\n",
      "INFO:root:\u001b[3;33m Time Cost for this Step : 0.0000 min\u001b[0;m\n",
      "INFO:root:=====Finish=====\n",
      "INFO:root:Search The Pack of Spectrum\n",
      "INFO:root:=====START=====\n",
      "INFO:root:\u001b[3;33m Time Cost for this Step : 0.0000 min\u001b[0;m\n",
      "INFO:root:=====Finish=====\n",
      "INFO:root:Create Pseudodata\n",
      "INFO:root:=====START=====\n",
      "INFO:root:\u001b[3;33m Time Cost for this Step : 0.0007 min\u001b[0;m\n",
      "INFO:root:=====Finish=====\n",
      "INFO:root:Recorver to (Spectrum)/(Normal Factor)\n",
      "INFO:root:=====START=====\n",
      "INFO:root:Pseudo Normal Factor\n",
      "INFO:root:        Li     Be     O   \n",
      "INFO:root:  #    200    200    200  \n",
      "INFO:root: Max  1.1843 1.0039 1.0541\n",
      "INFO:root: Min  1.1384 0.9637 1.0145\n",
      "INFO:root: Ave. 1.1609 0.9911 1.0311\n",
      "INFO:root:\u001b[3;33m Time Cost for this Step : 0.0070 min\u001b[0;m\n",
      "INFO:root:=====Finish=====\n",
      "INFO:root:Recorver to Spectrum\n",
      "INFO:root:=====START=====\n",
      "INFO:root:\u001b[3;33m Time Cost for this Step : 0.0002 min\u001b[0;m\n",
      "INFO:root:=====Finish=====\n",
      "INFO:root:\n",
      "\n",
      "INFO:root:\u001b[3;33m Total Time consumption : 0.0083 min\u001b[0;m\n"
     ]
    },
    {
     "name": "stdout",
     "output_type": "stream",
     "text": [
      "CPU times: user 499 ms, sys: 11.5 ms, total: 510 ms\n",
      "Wall time: 503 ms\n"
     ]
    }
   ],
   "source": [
    "%%time\n",
    "importlib.reload(CR)\n",
    "pseudoexp = CR.Create_Pseudodata(para_6_sigma, data_6_sigma, chi, LOW = 10 , HIGH = 100000 , number = 200, index=0).Create_Pseudodata()\n"
   ]
  },
  {
   "cell_type": "markdown",
   "id": "imperial-interest",
   "metadata": {},
   "source": [
    "- 2.Using  \n",
    "   `CR.Calculate_Chi_Square(data=pseudodata,usedata=True)`  \n",
    "    to check $\\chi^2$ for pseudodata"
   ]
  },
  {
   "cell_type": "code",
   "execution_count": 13,
   "id": "confidential-calculation",
   "metadata": {},
   "outputs": [
    {
     "name": "stderr",
     "output_type": "stream",
     "text": [
      "INFO:root:Fri Aug 06 03:30:01 2021\n",
      "INFO:root:Fit the Spectrum.\n",
      "INFO:root:=====START=====\n",
      "INFO:root:\u001b[3;33m Time Cost for this Step : 0.0001 min\u001b[0;m\n",
      "INFO:root:=====Finish=====\n",
      "INFO:root:Calculate Chi-Square.\n",
      "INFO:root:=====START=====\n",
      "INFO:root:\u001b[3;33m Time Cost for this Step : 0.0000 min\u001b[0;m\n",
      "INFO:root:=====Finish=====\n",
      "INFO:root:\n",
      "\n",
      "INFO:root:\u001b[3;33m Total Time Consumption : 0.0003 min\u001b[0;m\n",
      "INFO:root:There are 200 pseudo data.\n",
      "INFO:root:minium chi: 367.99501\n",
      "INFO:root:13 of pseudodata in 1 sigma region\n",
      "INFO:root:28 of pseudodata in 2 sigma region\n",
      "INFO:root:55 of pseudodata in 3 sigma region\n"
     ]
    },
    {
     "name": "stdout",
     "output_type": "stream",
     "text": [
      "CPU times: user 21 ms, sys: 3.17 ms, total: 24.2 ms\n",
      "Wall time: 21.4 ms\n"
     ]
    }
   ],
   "source": [
    "%%time\n",
    "\n",
    "normalfactor = pseudoexp[0]\n",
    "pseudodata = pseudoexp[1]\n",
    "\n",
    "chi_pseudo = CR.Calculate_Chi_Square(data=pseudodata,usedata=True)\n",
    "chi_pseudo = chi_pseudo.chi_square()\n",
    "index_pseudo = np.argsort(chi_pseudo)\n",
    "logging.info(\"There are {} pseudo data.\".format(len(chi_pseudo)))\n",
    "logging.info(\"minium chi: {}\".format(min(chi)))\n",
    "logging.info(\"{} of pseudodata in 1 sigma region\".format(np.count_nonzero(chi_pseudo < min(chi) + 15.9  )))\n",
    "logging.info(\"{} of pseudodata in 2 sigma region\".format(np.count_nonzero(chi_pseudo < min(chi) + 24.03  )))\n",
    "logging.info(\"{} of pseudodata in 3 sigma region\".format(np.count_nonzero(chi_pseudo < min(chi) + 33.20  )))"
   ]
  },
  {
   "cell_type": "markdown",
   "id": "endless-table",
   "metadata": {},
   "source": [
    "-3.Using  \n",
    "   `CR.Mock_Data_Processing(parameter=normalfactor, data=pseudodata, usedata = True)`   \n",
    "    to whiten pseudo data for prediction"
   ]
  },
  {
   "cell_type": "code",
   "execution_count": 16,
   "id": "graphic-biotechnology",
   "metadata": {},
   "outputs": [
    {
     "name": "stderr",
     "output_type": "stream",
     "text": [
      "INFO:root:Fri Aug 06 03:31:16 2021\n",
      "INFO:root:\u001b[3;33mPrepare Ratio\u001b[0;m\n",
      "INFO:root:Fri Aug 06 03:31:16 2021\n",
      "INFO:root:Whitening\n",
      "INFO:root:=====START=====\n",
      "INFO:root:\u001b[3;33m Time Cost for this Step : 0.0000 min\u001b[0;m\n",
      "INFO:root:=====Finish=====\n",
      "INFO:root:\u001b[3;33mTime Cost : 0.0001 min\u001b[0;m\n",
      "INFO:root:random split traning sample and test sample, 10% for test\n",
      "INFO:root:=====START=====\n",
      "INFO:root:\u001b[3;33m Time Cost for this Step : 0.0000 min\u001b[0;m\n",
      "INFO:root:=====Finish=====\n",
      "INFO:root:Shape for training Input: (200, 8, 84)\n",
      "INFO:root:Shape for  testing Input: (0, 8, 84)\n",
      "INFO:root:Shape for training Target: (200, 10)\n",
      "INFO:root:Shape for  testing Target: (0, 10)\n",
      "INFO:root:\u001b[3;33mTime Cost : 0.0007 min\u001b[0;m\n"
     ]
    },
    {
     "name": "stdout",
     "output_type": "stream",
     "text": [
      "CPU times: user 50.9 ms, sys: 3.42 ms, total: 54.3 ms\n",
      "Wall time: 49.4 ms\n"
     ]
    }
   ],
   "source": [
    "%%time\n",
    "importlib.reload(CR)\n",
    "pseudodata_processing = CR.Mock_Data_Processing(parameter=normalfactor, data=pseudodata, usedata = True)\n",
    "pseudodata_processing.Train_Test_split(splitrate = 0, split = False)\n",
    "\n",
    "input_train, input_test = pseudodata_processing.input_train, pseudodata_processing.input_test\n",
    "source_train, source_test = pseudodata_processing.source_train, pseudodata_processing.source_test"
   ]
  },
  {
   "cell_type": "markdown",
   "id": "forced-congo",
   "metadata": {},
   "source": [
    "## Using retrained model to predict the parameter for pseudo data\n",
    "- 1.Load model and estimate the parameters for pseudo experiment"
   ]
  },
  {
   "cell_type": "code",
   "execution_count": 17,
   "id": "acquired-reputation",
   "metadata": {},
   "outputs": [
    {
     "name": "stdout",
     "output_type": "stream",
     "text": [
      "CPU times: user 447 ms, sys: 43.3 ms, total: 491 ms\n",
      "Wall time: 480 ms\n"
     ]
    }
   ],
   "source": [
    "%%time\n",
    "importlib.reload(CR)\n",
    "model = load_model(\"./Model/CR_ML_2nd.h5\")\n",
    "prediction_pseudodata = model.predict(input_train)\n"
   ]
  },
  {
   "cell_type": "markdown",
   "id": "documentary-cable",
   "metadata": {},
   "source": [
    "- 2.Using  \n",
    "    ` CR.Recovery(prediction_pseudodata).para_recovery`  \n",
    "    to transform the prediction to real parameter's scale\n"
   ]
  },
  {
   "cell_type": "code",
   "execution_count": 18,
   "id": "floral-teaching",
   "metadata": {},
   "outputs": [
    {
     "name": "stderr",
     "output_type": "stream",
     "text": [
      "INFO:root:Data Shape for 'prediction_recovery': (200, 10)\n"
     ]
    },
    {
     "name": "stdout",
     "output_type": "stream",
     "text": [
      "CPU times: user 2.6 ms, sys: 0 ns, total: 2.6 ms\n",
      "Wall time: 2.12 ms\n"
     ]
    }
   ],
   "source": [
    "%%time\n",
    "prediction_recovery = CR.Recovery(prediction_pseudodata).para_recovery\n",
    "\n",
    "logging.info(\"Data Shape for 'prediction_recovery': {}\".format(prediction_recovery.shape))"
   ]
  },
  {
   "cell_type": "code",
   "execution_count": 16,
   "id": "placed-float",
   "metadata": {},
   "outputs": [
    {
     "name": "stdout",
     "output_type": "stream",
     "text": [
      "Help on class Create_Pseudodata in module script.CR_ML_Class:\n",
      "\n",
      "class Create_Pseudodata(builtins.object)\n",
      " |  Methods defined here:\n",
      " |  \n",
      " |  Create_Pseudodata(self)\n",
      " |      Usage: \n",
      " |          Create_Pseudodata(parameter, data, chi, LOW = 10 , HIGH = 30 , number = 100, index=0).Create_Pseudodata()\n",
      " |      Return:\n",
      " |          normalfactor, pseudodata\n",
      " |      Item:\n",
      " |          Null\n",
      " |  \n",
      " |  __init__(self, parameter=[], data=[], chi=[], LOW=10, HIGH=30, number=100, index=0)\n",
      " |      Usage: \n",
      " |          Create_Pseudodata(parameter, data, chi, LOW = 10 , HIGH = 30 , number = 100, index=0)\n",
      " |      Return:\n",
      " |          Null\n",
      " |      Item:\n",
      " |          Null\n",
      " |  \n",
      " |  ----------------------------------------------------------------------\n",
      " |  Data descriptors defined here:\n",
      " |  \n",
      " |  __dict__\n",
      " |      dictionary for instance variables (if defined)\n",
      " |  \n",
      " |  __weakref__\n",
      " |      list of weak references to the object (if defined)\n",
      "\n"
     ]
    }
   ],
   "source": [
    "importlib.reload(CR)\n",
    "\n",
    "help(CR.Create_Pseudodata)"
   ]
  },
  {
   "cell_type": "code",
   "execution_count": null,
   "id": "arctic-applicant",
   "metadata": {},
   "outputs": [],
   "source": []
  }
 ],
 "metadata": {
  "kernelspec": {
   "display_name": "Python 3",
   "language": "python",
   "name": "python3"
  },
  "language_info": {
   "codemirror_mode": {
    "name": "ipython",
    "version": 3
   },
   "file_extension": ".py",
   "mimetype": "text/x-python",
   "name": "python",
   "nbconvert_exporter": "python",
   "pygments_lexer": "ipython3",
   "version": "3.6.8"
  }
 },
 "nbformat": 4,
 "nbformat_minor": 5
}
