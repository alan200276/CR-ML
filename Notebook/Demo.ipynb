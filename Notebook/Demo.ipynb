{
 "cells": [
  {
   "cell_type": "markdown",
   "id": "designed-model",
   "metadata": {},
   "source": [
    "# CR ML Road Map\n",
    "\n",
    "\n",
    "- Step 1:\n",
    "    - Transfrom Mock Data from Text File to Numpy Dataframe \n",
    "- Step 2:\n",
    "    - ReCalculate Normalized Factor for Mock Data\n",
    "- Step 3:\n",
    "    - Machine Learning\n",
    "        - using whole data to train\n",
    "        - retrain the model with the data in 6 $\\sigma$ CL region \n",
    "- Step 4:\n",
    "   - Create pseudo data from pseudo experiment based on the uncertainty from experimental data\n",
    "- Step 5:\n",
    "   - Using retrained model to predict the parameter for pseudo data\n",
    "- Step 6:\n",
    "    - Send predicted parameters back to GALPROP for MC simulation\n",
    "- Step 7:\n",
    "    - TBA\n",
    "- Step 8:\n",
    "    - TBA\n",
    "- Step 9:\n",
    "    - TBA"
   ]
  },
  {
   "cell_type": "markdown",
   "id": "tutorial-retention",
   "metadata": {},
   "source": [
    "## Import Packages"
   ]
  },
  {
   "cell_type": "code",
   "execution_count": 4,
   "id": "inner-tooth",
   "metadata": {},
   "outputs": [
    {
     "name": "stdout",
     "output_type": "stream",
     "text": [
      "Tensorflow Version is 2.4.1\n",
      "Keras Version is 2.4.0\n",
      "/bin/bash: nvudia-smi: command not found\n"
     ]
    }
   ],
   "source": [
    "from __future__ import absolute_import, division, print_function, unicode_literals\n",
    "# basic python package\n",
    "import importlib\n",
    "import numpy as np\n",
    "import time\n",
    "import logging\n",
    "importlib.reload(logging)\n",
    "logging.basicConfig(level = logging.INFO)\n",
    "\n",
    "# python ploting packages\n",
    "import matplotlib.pyplot as plt\n",
    "from matplotlib.ticker import MaxNLocator\n",
    "from matplotlib.colors import ListedColormap, LinearSegmentedColormap, BoundaryNorm\n",
    "from matplotlib.collections import LineCollection\n",
    "from matplotlib import cm\n",
    "\n",
    "\n",
    "# self-define classes\n",
    "from script import CR_ML_Class as CR\n",
    "from script import load_mock_data as LD\n",
    "\n",
    "\n",
    "# tensorflow\n",
    "import tensorflow as tf\n",
    "from tensorflow.keras.models import Sequential, load_model\n",
    "print(\"Tensorflow Version is {}\".format(tf.__version__))\n",
    "print(\"Keras Version is {}\".format(tf.keras.__version__))\n",
    "!nvudia-smi"
   ]
  },
  {
   "cell_type": "markdown",
   "id": "proprietary-punishment",
   "metadata": {},
   "source": [
    "## Transfrom Mock Data from Text File to Numpy Dataframe \n",
    "\n",
    "- Data Description:\n",
    "\n",
    "\n",
    "    - parameter : propagation and source parameters \n",
    "        numpy shape: (# of mock data, 14)\n",
    "            #parameter: original parameter \n",
    "            #new_parameter: recalculate the normal factor and Ap \n",
    "\n",
    "            raw1=D_0, \n",
    "            raw2=\\delta, \n",
    "            raw3=z_h, \n",
    "            raw4=v_A, \n",
    "            raw5=\\eta, \n",
    "            raw6=A_p, \n",
    "            raw7=\\nu_1, \n",
    "            raw8=\\nu_2, \n",
    "            raw9=log10(R_{br,1}), \n",
    "            raw10=\\nu_3, \n",
    "            raw11=log10(R_{br,2}), \n",
    "            raw12=N_{Li}, \n",
    "            raw13=N_{Be}, \n",
    "            raw14=N_{O}\n",
    "\n",
    "\n",
    "    - data: Mock data\n",
    "        numpy shape: (# of mock data, 84, 6)\n",
    "            84 means there are 84 energy bins from 1.000e-03 to 1.105e+05\n",
    "            6 means there are the spectrum for E, Li, Be, B, C, O\n",
    "            #data_0: original mocak data\n",
    "            #modify_data_0: reshape data accroding to recalculated parameters\n",
    "\n",
    "\n",
    "     - chi: chi-square \n",
    "        numpy shape: (# of mock data)\n",
    "            #new_chi: chi-square from \"modify_data\""
   ]
  },
  {
   "cell_type": "code",
   "execution_count": 5,
   "id": "consolidated-constitutional",
   "metadata": {},
   "outputs": [
    {
     "name": "stderr",
     "output_type": "stream",
     "text": [
      "INFO:root:Fri Aug 06 03:09:07 2021\n",
      "INFO:root:Now loading...\n",
      "INFO:root:Total data: 30000\n",
      "INFO:root:\u001b[3;33mTime consumption : 0.4249 min\u001b[0;m\n",
      "INFO:root:Data Shape for 'parameter': (30000, 15)\n",
      "INFO:root:Data Shape for 'data': (2520000, 11)\n",
      "INFO:root:Data Shape for 'chisq': (30000,)\n"
     ]
    },
    {
     "name": "stdout",
     "output_type": "stream",
     "text": [
      "CPU times: user 25.2 s, sys: 664 ms, total: 25.9 s\n",
      "Wall time: 25.9 s\n"
     ]
    }
   ],
   "source": [
    "%%time\n",
    "text_Data_path = \"../Data/Text_Mock_data/\"\n",
    "\n",
    "# mockdata_1 = CR.Mock_Data_to_NumpyArray(text_Data_path + \"res_3x_1.txt\")\n",
    "mockdata_1 = CR.Mock_Data_to_NumpyArray(text_Data_path + \"return_4.txt\")\n",
    "origin_parameter, data, chisq = mockdata_1.parameter, mockdata_1.spectrum, mockdata_1.chisq\n",
    "\n",
    "logging.info(\"Data Shape for 'parameter': {}\".format(origin_parameter.shape))\n",
    "logging.info(\"Data Shape for 'data': {}\".format(data.shape))\n",
    "logging.info(\"Data Shape for 'chisq': {}\".format(chisq.shape))"
   ]
  },
  {
   "cell_type": "markdown",
   "id": "japanese-overhead",
   "metadata": {},
   "source": [
    "## ReCalculate Normalized Factor for Mock Data\n",
    "\n",
    "- 1: Using   \n",
    "    `CR.Mock_Data_Rescale(parameter, parameter, data)`   \n",
    "    to split 'data' into Li, Be, B, C and O `spectra`.  \n",
    "    Note that we put the same 'parameter' here because we have not get new normalized factor yet\n",
    "    \n",
    "    - `spectra`: Mock data\n",
    "        numpy shape: (# of mock data, 84, 6)\n",
    "            84 means there are 84 energy bins from 1.000e-03 to 1.105e+05\n",
    "            6 means there are the spectrum for E, Li, Be, B, C, O\n",
    "            #data_0: original mocak data\n",
    "            #modify_data_0: reshape data accroding to recalculated paramete"
   ]
  },
  {
   "cell_type": "code",
   "execution_count": 6,
   "id": "diagnostic-modification",
   "metadata": {},
   "outputs": [
    {
     "name": "stderr",
     "output_type": "stream",
     "text": [
      "INFO:root:Data Shape for 'spectra_data': (30000, 84, 6)\n",
      "INFO:root:There are 30000 mock data.\n",
      "INFO:root:For each mock data, there are 84 energy bins.\n",
      "INFO:root:6 corresponding to E, Li, Be, B, C and O.\n"
     ]
    },
    {
     "name": "stdout",
     "output_type": "stream",
     "text": [
      "CPU times: user 173 ms, sys: 1.98 ms, total: 175 ms\n",
      "Wall time: 172 ms\n"
     ]
    }
   ],
   "source": [
    "%%time\n",
    "spectra_data = CR.Mock_Data_Rescale(origin_parameter=origin_parameter, new_parameter=origin_parameter, spectrum=data, usedata=False)\n",
    "logging.info(\"Data Shape for 'spectra_data': {}\".format(spectra_data.data.shape))\n",
    "logging.info(\"There are {} mock data.\".format(spectra_data.data.shape[0]))\n",
    "logging.info(\"For each mock data, there are {} energy bins.\".format(spectra_data.data.shape[1]))\n",
    "logging.info(\"{} corresponding to E, Li, Be, B, C and O.\".format(spectra_data.data.shape[2]))"
   ]
  },
  {
   "cell_type": "markdown",
   "id": "adolescent-range",
   "metadata": {},
   "source": [
    "- 2: Using  \n",
    "`CR.ReCalculateAp(spectra_data.data)`   \n",
    "  to recalculate Ap"
   ]
  },
  {
   "cell_type": "code",
   "execution_count": 7,
   "id": "addressed-sharp",
   "metadata": {},
   "outputs": [
    {
     "name": "stderr",
     "output_type": "stream",
     "text": [
      "INFO:root:Fri Aug 06 03:09:33 2021\n",
      "INFO:root:Finding best Ap\n",
      "INFO:root:=====START=====\n",
      "100%|██████████| 100/100 [00:00<00:00, 107.70it/s]\n",
      "INFO:root:\u001b[3;33m Time Cost for this Step : 0.0155 min\u001b[0;m\n",
      "INFO:root:=====Finish=====\n",
      "INFO:root:\u001b[3;33mTime Cost : 0.0158 min\u001b[0;m\n"
     ]
    },
    {
     "name": "stdout",
     "output_type": "stream",
     "text": [
      "CPU times: user 941 ms, sys: 12.1 ms, total: 953 ms\n",
      "Wall time: 958 ms\n"
     ]
    }
   ],
   "source": [
    "%%time\n",
    "importlib.reload(CR)\n",
    "new_Ap = CR.ReCalculateAp(spectra_data.data[:100]) \n",
    "new_Ap.GetBestAp()"
   ]
  },
  {
   "cell_type": "markdown",
   "id": "convinced-somalia",
   "metadata": {},
   "source": [
    "- 3: Using   \n",
    "`CR.ReCalculateN((spectra_data.new_parameter,spectra_data.data,ap=new_Ap.ap_5))`  \n",
    "to recalculate normalized factor ($N_{Li}$, $N_{Be}$ and $N_{O}$)"
   ]
  },
  {
   "cell_type": "code",
   "execution_count": 8,
   "id": "virtual-venue",
   "metadata": {},
   "outputs": [
    {
     "name": "stderr",
     "output_type": "stream",
     "text": [
      "INFO:root:Fri Aug 06 03:09:34 2021\n",
      "INFO:root:Finding New Normalized Factor\n",
      "INFO:root:=====START=====\n",
      "100%|██████████| 100/100 [00:01<00:00, 86.15it/s]\n",
      "INFO:root:\u001b[3;33m Time Cost for this Step : 0.0194 min\u001b[0;m\n",
      "INFO:root:=====Finish=====\n",
      "INFO:root:\u001b[3;33mTime Cost : 0.0195 min\u001b[0;m\n"
     ]
    },
    {
     "name": "stdout",
     "output_type": "stream",
     "text": [
      "CPU times: user 1.17 s, sys: 6.15 ms, total: 1.18 s\n",
      "Wall time: 1.17 s\n"
     ]
    }
   ],
   "source": [
    "%%time\n",
    "importlib.reload(CR)\n",
    "new_normalized_factor = CR.ReCalculateN(spectra_data.new_parameter[:100],spectra_data.data[:100],ap=new_Ap.ap_5)\n",
    "new_normalized_factor.GetBestN()"
   ]
  },
  {
   "cell_type": "markdown",
   "id": "contemporary-angel",
   "metadata": {},
   "source": [
    "- 4: Using   \n",
    "    `CR.New_Parameter(spectra_data.new_parameter,new_normalized_factor.new_factor,ap_5=new_Ap.ap_5).new_parameter`\n",
    "    to get new parameter array"
   ]
  },
  {
   "cell_type": "code",
   "execution_count": 9,
   "id": "selected-handy",
   "metadata": {},
   "outputs": [
    {
     "name": "stderr",
     "output_type": "stream",
     "text": [
      "INFO:root:Fri Aug 06 03:09:35 2021\n",
      "INFO:root:\u001b[3;33mTime Cost : 0.0000 min\u001b[0;m\n"
     ]
    },
    {
     "name": "stdout",
     "output_type": "stream",
     "text": [
      "CPU times: user 1.35 ms, sys: 914 µs, total: 2.26 ms\n",
      "Wall time: 1.63 ms\n"
     ]
    }
   ],
   "source": [
    "%%time\n",
    "new_parameter = CR.New_Parameter(spectra_data.new_parameter[:100],new_normalized_factor.new_factor,ap_5=new_Ap.ap_5).new_parameter"
   ]
  },
  {
   "cell_type": "markdown",
   "id": "enabling-rebecca",
   "metadata": {},
   "source": [
    "- 5: Put `origin_parameter` and `new_parameter` back into  \n",
    "    `CR.Mock_Data_Rescale(parameter, new_parameter, spectra_data.data,usedata = True)`  \n",
    "    to get `new parameter` array, `new data` array and new $\\chi^2$`. "
   ]
  },
  {
   "cell_type": "code",
   "execution_count": 10,
   "id": "rolled-equity",
   "metadata": {},
   "outputs": [
    {
     "name": "stderr",
     "output_type": "stream",
     "text": [
      "INFO:root:Fri Aug 06 03:09:35 2021\n",
      "INFO:root:Fit the Spectrum.\n",
      "INFO:root:=====START=====\n",
      "INFO:root:\u001b[3;33m Time Cost for this Step : 0.0000 min\u001b[0;m\n",
      "INFO:root:=====Finish=====\n",
      "INFO:root:Calculate Chi-Square.\n",
      "INFO:root:=====START=====\n",
      "INFO:root:\u001b[3;33m Time Cost for this Step : 0.0000 min\u001b[0;m\n",
      "INFO:root:=====Finish=====\n",
      "INFO:root:\n",
      "\n",
      "INFO:root:\u001b[3;33m Total Time Consumption : 0.0002 min\u001b[0;m\n",
      "INFO:root:Data Shape for 'parameter': (100, 14)\n",
      "INFO:root:Data Shape for 'data': (100, 84, 6)\n",
      "INFO:root:Data Shape for 'chi': (100,)\n"
     ]
    },
    {
     "name": "stdout",
     "output_type": "stream",
     "text": [
      "CPU times: user 17.2 ms, sys: 3.89 ms, total: 21.1 ms\n",
      "Wall time: 18.6 ms\n"
     ]
    }
   ],
   "source": [
    "%%time\n",
    "new_spectra_data = CR.Mock_Data_Rescale(origin_parameter[:100], new_parameter, spectra_data.data[:100], usedata = True)\n",
    "\n",
    "parameter = new_spectra_data.new_parameter\n",
    "data = new_spectra_data.data\n",
    "\n",
    "chisq = CR.Calculate_Chi_Square(data=data,usedata=True) \n",
    "chi = chisq.chi_square()\n",
    "\n",
    "logging.info(\"Data Shape for 'parameter': {}\".format(parameter.shape))\n",
    "logging.info(\"Data Shape for 'data': {}\".format(data.shape))\n",
    "logging.info(\"Data Shape for 'chi': {}\".format(chi.shape))"
   ]
  },
  {
   "cell_type": "markdown",
   "id": "extensive-palmer",
   "metadata": {},
   "source": [
    "- 6: Using  \n",
    "    `CR.Select_Sample(chi_para, chi_data, chi_sele,1).Sample()`  \n",
    "    to seperate data into different CL region."
   ]
  },
  {
   "cell_type": "code",
   "execution_count": 11,
   "id": "informative-glass",
   "metadata": {},
   "outputs": [
    {
     "name": "stderr",
     "output_type": "stream",
     "text": [
      "INFO:root:There are 5 data in the 1 σ region.\n",
      "INFO:root:\u001b[3;33mTime consumption : 0.0000 min\u001b[0;m\n",
      "INFO:root:There are 9 data in the 2 σ region.\n",
      "INFO:root:\u001b[3;33mTime consumption : 0.0000 min\u001b[0;m\n",
      "INFO:root:There are 20 data in the 3 σ region.\n",
      "INFO:root:\u001b[3;33mTime consumption : 0.0000 min\u001b[0;m\n",
      "INFO:root:There are 35 data in the 4 σ region.\n",
      "INFO:root:\u001b[3;33mTime consumption : 0.0000 min\u001b[0;m\n",
      "INFO:root:There are 46 data in the 5 σ region.\n",
      "INFO:root:\u001b[3;33mTime consumption : 0.0000 min\u001b[0;m\n",
      "INFO:root:There are 65 data in the 6 σ region.\n",
      "INFO:root:\u001b[3;33mTime consumption : 0.0000 min\u001b[0;m\n"
     ]
    },
    {
     "name": "stdout",
     "output_type": "stream",
     "text": [
      "CPU times: user 14.5 ms, sys: 3.92 ms, total: 18.4 ms\n",
      "Wall time: 15 ms\n"
     ]
    }
   ],
   "source": [
    "%%time\n",
    "importlib.reload(CR)\n",
    "chi_para, chi_data, chi_sele = parameter, data, chi\n",
    "\n",
    "para_1_sigma, data_1_sigma, _ =  CR.Select_Sample(chi_para, chi_data, chi_sele,1).Sample()\n",
    "para_2_sigma, data_2_sigma, _ =  CR.Select_Sample(chi_para, chi_data, chi_sele,2).Sample()\n",
    "para_3_sigma, data_3_sigma, _ =  CR.Select_Sample(chi_para, chi_data, chi_sele,3).Sample()\n",
    "para_4_sigma, data_4_sigma, _ =  CR.Select_Sample(chi_para, chi_data, chi_sele,4).Sample()\n",
    "para_5_sigma, data_5_sigma, _ =  CR.Select_Sample(chi_para, chi_data, chi_sele,5).Sample()\n",
    "para_6_sigma, data_6_sigma, _ =  CR.Select_Sample(chi_para, chi_data, chi_sele,6).Sample()"
   ]
  },
  {
   "cell_type": "markdown",
   "id": "immediate-water",
   "metadata": {},
   "source": [
    "# Machine Learning\n",
    "\n",
    "- 1: Using  \n",
    "     `CR.Mock_Data_Processing(parameter=parameter, data=data, usedata = True)`\n",
    "     and\n",
    "     `.Train_Test_split(splitrate = 0.1, split = True)`   \n",
    "     to whitening data and split into training and test data set with the ratio 9:1."
   ]
  },
  {
   "cell_type": "code",
   "execution_count": 12,
   "id": "african-jungle",
   "metadata": {},
   "outputs": [
    {
     "name": "stderr",
     "output_type": "stream",
     "text": [
      "INFO:root:Fri Aug 06 03:09:35 2021\n",
      "INFO:root:\u001b[3;33mPrepare Ratio\u001b[0;m\n",
      "INFO:root:Fri Aug 06 03:09:35 2021\n",
      "INFO:root:Whitening\n",
      "INFO:root:=====START=====\n",
      "INFO:root:\u001b[3;33m Time Cost for this Step : 0.0000 min\u001b[0;m\n",
      "INFO:root:=====Finish=====\n",
      "INFO:root:\u001b[3;33mTime Cost : 0.0001 min\u001b[0;m\n",
      "INFO:root:random split traning sample and test sample, 10% for test\n",
      "INFO:root:=====START=====\n",
      "INFO:root:\u001b[3;33m Time Cost for this Step : 0.0000 min\u001b[0;m\n",
      "INFO:root:=====Finish=====\n",
      "INFO:root:Shape for training Input: (90, 8, 84)\n",
      "INFO:root:Shape for  testing Input: (10, 8, 84)\n",
      "INFO:root:Shape for training Target: (90, 10)\n",
      "INFO:root:Shape for  testing Target: (10, 10)\n",
      "INFO:root:\u001b[3;33mTime Cost : 0.0004 min\u001b[0;m\n"
     ]
    },
    {
     "name": "stdout",
     "output_type": "stream",
     "text": [
      "CPU times: user 22 ms, sys: 10.7 ms, total: 32.8 ms\n",
      "Wall time: 25.5 ms\n"
     ]
    }
   ],
   "source": [
    "%%time\n",
    "importlib.reload(CR)\n",
    "data_processing = CR.Mock_Data_Processing(parameter=parameter, data=data, usedata = True)\n",
    "data_processing.Train_Test_split(splitrate = 0.1, split = True)\n",
    "\n",
    "input_train, input_test = data_processing.input_train, data_processing.input_test\n",
    "source_train, source_test = data_processing.source_train, data_processing.source_test\n",
    "\n"
   ]
  },
  {
   "cell_type": "markdown",
   "id": "focused-opportunity",
   "metadata": {},
   "source": [
    "- 2:Using   \n",
    "    `ML.ML_Training(input_train,input_test,source_train,source_test,EPOCH=10, save_path=\"./\")`\n",
    "    to train a model with whole CL region."
   ]
  },
  {
   "cell_type": "code",
   "execution_count": 13,
   "id": "superior-nickname",
   "metadata": {},
   "outputs": [
    {
     "name": "stderr",
     "output_type": "stream",
     "text": [
      "INFO:root:\n",
      "-----------------------------------------------------------\n",
      "\"\"python3\"\"\n",
      "\u001b[3;32m ML_Training.py \u001b[0;m\n",
      "\u001b[3;31m Usage: ML_Training(input_train,input_test,source_train,source_test,EPOCH=100,save_path=\"save_path\") \u001b[0;m\n",
      "\u001b[3;31m        Trained Model will be stroed in \"Model\" directory \u001b[0;m\n",
      "\u001b[3;31m Usage: Load_ML_ML_Training(input_train,input_test,source_train,source_test,model_path,EPOCH=250,BATCH=256,save_path=\"save_path\")\u001b[0;m\n",
      "\u001b[3;31m        Load Model for snd training \u001b[0;m\n",
      "\u001b[3;31m        Trained Model will be stroed in \"Model\" directory \u001b[0;m\n",
      "\n",
      "\n",
      "-----------------------------------------------------------\n",
      "\n",
      "INFO:root:\n",
      "-----------------------------------------------------------\n",
      "\"\"python3\"\"\n",
      "\u001b[3;32m ML_Training.py \u001b[0;m\n",
      "\u001b[3;31m Usage: ML_Training(input_train,input_test,source_train,source_test,EPOCH=100,save_path=\"save_path\") \u001b[0;m\n",
      "\u001b[3;31m        Trained Model will be stroed in \"Model\" directory \u001b[0;m\n",
      "\u001b[3;31m Usage: Load_ML_ML_Training(input_train,input_test,source_train,source_test,model_path,EPOCH=250,BATCH=256,save_path=\"save_path\")\u001b[0;m\n",
      "\u001b[3;31m        Load Model for snd training \u001b[0;m\n",
      "\u001b[3;31m        Trained Model will be stroed in \"Model\" directory \u001b[0;m\n",
      "\n",
      "\n",
      "-----------------------------------------------------------\n",
      "\n",
      "INFO:root:Fri Aug 06 03:09:35 2021\n"
     ]
    },
    {
     "name": "stdout",
     "output_type": "stream",
     "text": [
      "Model: \"Sequential\"\n",
      "_________________________________________________________________\n",
      "Layer (type)                 Output Shape              Param #   \n",
      "=================================================================\n",
      "Conv1D_input (Conv1D)        (None, 8, 512)            43520     \n",
      "_________________________________________________________________\n",
      "Conv1D_1 (Conv1D)            (None, 8, 512)            262656    \n",
      "_________________________________________________________________\n",
      "Conv1D_2 (Conv1D)            (None, 8, 256)            131328    \n",
      "_________________________________________________________________\n",
      "Conv1D_3 (Conv1D)            (None, 8, 256)            65792     \n",
      "_________________________________________________________________\n",
      "Conv1D_4 (Conv1D)            (None, 8, 128)            32896     \n",
      "_________________________________________________________________\n",
      "max_pooling1d (MaxPooling1D) (None, 4, 128)            0         \n",
      "_________________________________________________________________\n",
      "flatten (Flatten)            (None, 512)               0         \n",
      "_________________________________________________________________\n",
      "Dense_1 (Dense)              (None, 128)               65664     \n",
      "_________________________________________________________________\n",
      "Dense_2 (Dense)              (None, 128)               16512     \n",
      "_________________________________________________________________\n",
      "Dense_3 (Dense)              (None, 64)                8256      \n",
      "_________________________________________________________________\n",
      "Dense_4 (Dense)              (None, 64)                4160      \n",
      "_________________________________________________________________\n",
      "Dense_5 (Dense)              (None, 32)                2080      \n",
      "_________________________________________________________________\n",
      "Dense_out (Dense)            (None, 10)                330       \n",
      "=================================================================\n",
      "Total params: 633,194\n",
      "Trainable params: 633,194\n",
      "Non-trainable params: 0\n",
      "_________________________________________________________________\n",
      "Epoch 1/10\n",
      "3/3 [==============================] - 6s 879ms/step - loss: 0.0657 - accuracy: 0.0173 - mse: 0.1397 - mae: 0.2931 - mape: 152.1725 - val_loss: 0.0240 - val_accuracy: 0.0000e+00 - val_mse: 0.0494 - val_mae: 0.1735 - val_mape: 51.0804\n",
      "\n",
      "Epoch 00001: val_loss improved from inf to 0.02403, saving model to .//Model/CR_ML_Checkpoint.h5\n",
      "Epoch 2/10\n",
      "3/3 [==============================] - 0s 33ms/step - loss: 0.0236 - accuracy: 0.2970 - mse: 0.0489 - mae: 0.1736 - mape: 56.7727 - val_loss: 0.0139 - val_accuracy: 0.6000 - val_mse: 0.0282 - val_mae: 0.1334 - val_mape: 38.3951\n",
      "\n",
      "Epoch 00002: val_loss improved from 0.02403 to 0.01391, saving model to .//Model/CR_ML_Checkpoint.h5\n",
      "Epoch 3/10\n",
      "3/3 [==============================] - 0s 92ms/step - loss: 0.0124 - accuracy: 0.6080 - mse: 0.0250 - mae: 0.1225 - mape: 52.0982 - val_loss: 0.0049 - val_accuracy: 0.0000e+00 - val_mse: 0.0099 - val_mae: 0.0751 - val_mape: 24.7407\n",
      "\n",
      "Epoch 00003: val_loss improved from 0.01391 to 0.00494, saving model to .//Model/CR_ML_Checkpoint.h5\n",
      "Epoch 4/10\n",
      "3/3 [==============================] - 0s 39ms/step - loss: 0.0070 - accuracy: 0.0000e+00 - mse: 0.0142 - mae: 0.0827 - mape: 37.0782 - val_loss: 0.0048 - val_accuracy: 0.2000 - val_mse: 0.0097 - val_mae: 0.0786 - val_mape: 29.3347\n",
      "\n",
      "Epoch 00004: val_loss improved from 0.00494 to 0.00482, saving model to .//Model/CR_ML_Checkpoint.h5\n",
      "Epoch 5/10\n",
      "3/3 [==============================] - 0s 43ms/step - loss: 0.0058 - accuracy: 0.1487 - mse: 0.0117 - mae: 0.0800 - mape: 35.1421 - val_loss: 0.0053 - val_accuracy: 0.2000 - val_mse: 0.0107 - val_mae: 0.0786 - val_mape: 35.5954\n",
      "\n",
      "Epoch 00005: val_loss did not improve from 0.00482\n",
      "Epoch 6/10\n",
      "3/3 [==============================] - 0s 34ms/step - loss: 0.0063 - accuracy: 0.2438 - mse: 0.0127 - mae: 0.0822 - mape: 76.2470 - val_loss: 0.0051 - val_accuracy: 0.6000 - val_mse: 0.0103 - val_mae: 0.0786 - val_mape: 39.8235\n",
      "\n",
      "Epoch 00006: val_loss did not improve from 0.00482\n",
      "Epoch 7/10\n",
      "3/3 [==============================] - 0s 34ms/step - loss: 0.0059 - accuracy: 0.6314 - mse: 0.0119 - mae: 0.0817 - mape: 103.3927 - val_loss: 0.0054 - val_accuracy: 0.6000 - val_mse: 0.0109 - val_mae: 0.0753 - val_mape: 38.0231\n",
      "\n",
      "Epoch 00007: val_loss did not improve from 0.00482\n",
      "Epoch 8/10\n",
      "3/3 [==============================] - 0s 33ms/step - loss: 0.0056 - accuracy: 0.6119 - mse: 0.0114 - mae: 0.0744 - mape: 84.9407 - val_loss: 0.0042 - val_accuracy: 0.6000 - val_mse: 0.0084 - val_mae: 0.0623 - val_mape: 38.6684\n",
      "\n",
      "Epoch 00008: val_loss improved from 0.00482 to 0.00417, saving model to .//Model/CR_ML_Checkpoint.h5\n",
      "Epoch 9/10\n",
      "3/3 [==============================] - 0s 36ms/step - loss: 0.0046 - accuracy: 0.6119 - mse: 0.0093 - mae: 0.0672 - mape: 107.0342 - val_loss: 0.0031 - val_accuracy: 0.6000 - val_mse: 0.0063 - val_mae: 0.0523 - val_mape: 16.8509\n",
      "\n",
      "Epoch 00009: val_loss improved from 0.00417 to 0.00314, saving model to .//Model/CR_ML_Checkpoint.h5\n",
      "Epoch 10/10\n",
      "3/3 [==============================] - 0s 36ms/step - loss: 0.0044 - accuracy: 0.5924 - mse: 0.0088 - mae: 0.0643 - mape: 39.1307 - val_loss: 0.0025 - val_accuracy: 0.6000 - val_mse: 0.0050 - val_mae: 0.0488 - val_mape: 17.8897\n",
      "\n",
      "Epoch 00010: val_loss improved from 0.00314 to 0.00249, saving model to .//Model/CR_ML_Checkpoint.h5\n"
     ]
    },
    {
     "name": "stderr",
     "output_type": "stream",
     "text": [
      "INFO:root:accuracy: 0.60000\n",
      "INFO:root:mse: 0.00500\n",
      "INFO:root:mae: 0.04876\n",
      "INFO:root:mape: 17.88971\n",
      "INFO:root:\u001b[3;33mTime consumption : 0.1482 min\u001b[0;m\n"
     ]
    },
    {
     "name": "stdout",
     "output_type": "stream",
     "text": [
      "CPU times: user 5.65 s, sys: 2.98 s, total: 8.63 s\n",
      "Wall time: 8.91 s\n"
     ]
    }
   ],
   "source": [
    "%%time\n",
    "from script import ML_Training as ML\n",
    "importlib.reload(ML)\n",
    "\n",
    "ML.ML_Training(input_train,input_test,source_train,source_test,EPOCH=10, save_path=\"./\")"
   ]
  },
  {
   "cell_type": "markdown",
   "id": "buried-copying",
   "metadata": {},
   "source": [
    "- 3:Using   \n",
    "    `ML.Load_ML_Training(input_train,input_test,source_train,source_test,model_path=\"./Model/CR_ML.h5\", EPOCH = 250, BATCH = 256, save_path=\"./\")`  \n",
    "    to retrain a model in 6 $\\sigma$ CL region."
   ]
  },
  {
   "cell_type": "code",
   "execution_count": 14,
   "id": "amended-lemon",
   "metadata": {},
   "outputs": [
    {
     "name": "stderr",
     "output_type": "stream",
     "text": [
      "INFO:root:Fri Aug 06 03:09:44 2021\n",
      "INFO:root:\u001b[3;33mPrepare Ratio\u001b[0;m\n",
      "INFO:root:Fri Aug 06 03:09:44 2021\n",
      "INFO:root:Whitening\n",
      "INFO:root:=====START=====\n",
      "INFO:root:\u001b[3;33m Time Cost for this Step : 0.0000 min\u001b[0;m\n",
      "INFO:root:=====Finish=====\n",
      "INFO:root:\u001b[3;33mTime Cost : 0.0001 min\u001b[0;m\n",
      "INFO:root:random split traning sample and test sample, 10% for test\n",
      "INFO:root:=====START=====\n",
      "INFO:root:\u001b[3;33m Time Cost for this Step : 0.0000 min\u001b[0;m\n",
      "INFO:root:=====Finish=====\n",
      "INFO:root:Shape for training Input: (58, 8, 84)\n",
      "INFO:root:Shape for  testing Input: (7, 8, 84)\n",
      "INFO:root:Shape for training Target: (58, 10)\n",
      "INFO:root:Shape for  testing Target: (7, 10)\n",
      "INFO:root:\u001b[3;33mTime Cost : 0.0004 min\u001b[0;m\n",
      "INFO:root:Fri Aug 06 03:09:44 2021\n"
     ]
    },
    {
     "name": "stdout",
     "output_type": "stream",
     "text": [
      "Model: \"Sequential\"\n",
      "_________________________________________________________________\n",
      "Layer (type)                 Output Shape              Param #   \n",
      "=================================================================\n",
      "Conv1D_input (Conv1D)        (None, 8, 512)            43520     \n",
      "_________________________________________________________________\n",
      "Conv1D_1 (Conv1D)            (None, 8, 512)            262656    \n",
      "_________________________________________________________________\n",
      "Conv1D_2 (Conv1D)            (None, 8, 256)            131328    \n",
      "_________________________________________________________________\n",
      "Conv1D_3 (Conv1D)            (None, 8, 256)            65792     \n",
      "_________________________________________________________________\n",
      "Conv1D_4 (Conv1D)            (None, 8, 128)            32896     \n",
      "_________________________________________________________________\n",
      "max_pooling1d (MaxPooling1D) (None, 4, 128)            0         \n",
      "_________________________________________________________________\n",
      "flatten (Flatten)            (None, 512)               0         \n",
      "_________________________________________________________________\n",
      "Dense_1 (Dense)              (None, 128)               65664     \n",
      "_________________________________________________________________\n",
      "Dense_2 (Dense)              (None, 128)               16512     \n",
      "_________________________________________________________________\n",
      "Dense_3 (Dense)              (None, 64)                8256      \n",
      "_________________________________________________________________\n",
      "Dense_4 (Dense)              (None, 64)                4160      \n",
      "_________________________________________________________________\n",
      "Dense_5 (Dense)              (None, 32)                2080      \n",
      "_________________________________________________________________\n",
      "Dense_out (Dense)            (None, 10)                330       \n",
      "=================================================================\n",
      "Total params: 633,194\n",
      "Trainable params: 633,194\n",
      "Non-trainable params: 0\n",
      "_________________________________________________________________\n",
      "Epoch 1/10\n",
      "1/1 [==============================] - 1s 954ms/step - loss: 0.0036 - accuracy: 0.6897 - mse: 0.0072 - mae: 0.0564 - mape: 33.5159 - val_loss: 0.0042 - val_accuracy: 0.4286 - val_mse: 0.0086 - val_mae: 0.0533 - val_mape: 14.9432\n",
      "\n",
      "Epoch 00001: val_loss improved from inf to 0.00423, saving model to .//Model/CR_ML_Checkpoint_2nd.h5\n",
      "Epoch 2/10\n",
      "1/1 [==============================] - 1s 888ms/step - loss: 0.0033 - accuracy: 0.6897 - mse: 0.0068 - mae: 0.0522 - mape: 29.9826 - val_loss: 0.0044 - val_accuracy: 0.4286 - val_mse: 0.0089 - val_mae: 0.0556 - val_mape: 14.7988\n",
      "\n",
      "Epoch 00002: val_loss did not improve from 0.00423\n",
      "Epoch 3/10\n",
      "1/1 [==============================] - 0s 54ms/step - loss: 0.0033 - accuracy: 0.6897 - mse: 0.0067 - mae: 0.0530 - mape: 26.5972 - val_loss: 0.0047 - val_accuracy: 0.4286 - val_mse: 0.0097 - val_mae: 0.0600 - val_mape: 15.3536\n",
      "\n",
      "Epoch 00003: val_loss did not improve from 0.00423\n",
      "Epoch 4/10\n",
      "1/1 [==============================] - 0s 45ms/step - loss: 0.0035 - accuracy: 0.6897 - mse: 0.0071 - mae: 0.0563 - mape: 25.4387 - val_loss: 0.0050 - val_accuracy: 0.4286 - val_mse: 0.0102 - val_mae: 0.0623 - val_mape: 15.7251\n",
      "\n",
      "Epoch 00004: val_loss did not improve from 0.00423\n",
      "Epoch 5/10\n",
      "1/1 [==============================] - 0s 49ms/step - loss: 0.0036 - accuracy: 0.6897 - mse: 0.0074 - mae: 0.0578 - mape: 26.5782 - val_loss: 0.0051 - val_accuracy: 0.4286 - val_mse: 0.0104 - val_mae: 0.0617 - val_mape: 15.6683\n",
      "\n",
      "Epoch 00005: val_loss did not improve from 0.00423\n",
      "Epoch 6/10\n",
      "1/1 [==============================] - 0s 47ms/step - loss: 0.0036 - accuracy: 0.6897 - mse: 0.0072 - mae: 0.0571 - mape: 29.9214 - val_loss: 0.0051 - val_accuracy: 0.4286 - val_mse: 0.0105 - val_mae: 0.0623 - val_mape: 17.5958\n",
      "\n",
      "Epoch 00006: val_loss did not improve from 0.00423\n",
      "Epoch 7/10\n",
      "1/1 [==============================] - 0s 47ms/step - loss: 0.0035 - accuracy: 0.6897 - mse: 0.0070 - mae: 0.0559 - mape: 35.2627 - val_loss: 0.0052 - val_accuracy: 0.4286 - val_mse: 0.0106 - val_mae: 0.0640 - val_mape: 19.3411\n",
      "\n",
      "Epoch 00007: val_loss did not improve from 0.00423\n",
      "Epoch 8/10\n",
      "1/1 [==============================] - 0s 49ms/step - loss: 0.0035 - accuracy: 0.6897 - mse: 0.0070 - mae: 0.0558 - mape: 39.0809 - val_loss: 0.0053 - val_accuracy: 0.4286 - val_mse: 0.0108 - val_mae: 0.0639 - val_mape: 19.9425\n",
      "\n",
      "Epoch 00008: val_loss did not improve from 0.00423\n",
      "Epoch 9/10\n",
      "1/1 [==============================] - 0s 76ms/step - loss: 0.0035 - accuracy: 0.6897 - mse: 0.0070 - mae: 0.0553 - mape: 39.8115 - val_loss: 0.0052 - val_accuracy: 0.4286 - val_mse: 0.0107 - val_mae: 0.0610 - val_mape: 18.8464\n",
      "\n",
      "Epoch 00009: val_loss did not improve from 0.00423\n",
      "Epoch 10/10\n",
      "1/1 [==============================] - 0s 70ms/step - loss: 0.0034 - accuracy: 0.6897 - mse: 0.0068 - mae: 0.0527 - mape: 37.8334 - val_loss: 0.0051 - val_accuracy: 0.4286 - val_mse: 0.0105 - val_mae: 0.0574 - val_mape: 17.6308\n",
      "\n",
      "Epoch 00010: val_loss did not improve from 0.00423\n"
     ]
    },
    {
     "name": "stderr",
     "output_type": "stream",
     "text": [
      "INFO:root:accuracy: 0.42857\n",
      "INFO:root:mse: 0.01053\n",
      "INFO:root:mae: 0.05741\n",
      "INFO:root:mape: 17.63083\n",
      "INFO:root:\u001b[3;33mTime consumption : 0.0572 min\u001b[0;m\n"
     ]
    }
   ],
   "source": [
    "\n",
    "data_processing = CR.Mock_Data_Processing(parameter=para_6_sigma, data=data_6_sigma, usedata = True)\n",
    "data_processing.Train_Test_split(splitrate = 0.1, split = True)\n",
    "\n",
    "input_train, input_test = data_processing.input_train, data_processing.input_test\n",
    "source_train, source_test = data_processing.source_train, data_processing.source_test\n",
    "\n",
    "\n",
    "ML.Load_ML_Training(input_train,input_test,source_train,source_test,model_path=\"./Model/CR_ML.h5\", EPOCH = 10, BATCH = 256, save_path=\"./\")"
   ]
  },
  {
   "cell_type": "markdown",
   "id": "right-information",
   "metadata": {},
   "source": [
    "## Create pseudo data from pseudo experiment based on the uncertainty from experimental data\n",
    "- 1.Using   \n",
    "    `CR.Create_Pseudodata(para_6_sigma,data_6_sigma,chi, LOW = 10 , HIGH = 100000 , number = 2000, index=0).Create_Pseudodata()`  \n",
    "    to do the pseudo experiment based on the mock data in 6 $\\sigma$ CL region."
   ]
  },
  {
   "cell_type": "code",
   "execution_count": 15,
   "id": "fifteen-encounter",
   "metadata": {},
   "outputs": [
    {
     "name": "stderr",
     "output_type": "stream",
     "text": [
      "INFO:root:Fri Aug 06 03:09:48 2021\n",
      "INFO:root:Experimental data are loading.\n",
      "INFO:root:=====START=====\n",
      "INFO:root:\u001b[3;33m Time Cost for this Step : 0.0001 min\u001b[0;m\n",
      "INFO:root:=====Finish=====\n",
      "INFO:root:Using whitening data to make pseudodata\n",
      "INFO:root:=====START=====\n",
      "INFO:root:\u001b[3;33m Time Cost for this Step : 0.0000 min\u001b[0;m\n",
      "INFO:root:=====Finish=====\n",
      "INFO:root:Search The Pack of Spectrum\n",
      "INFO:root:=====START=====\n",
      "INFO:root:\u001b[3;33m Time Cost for this Step : 0.0000 min\u001b[0;m\n",
      "INFO:root:=====Finish=====\n",
      "INFO:root:Create Pseudodata\n",
      "INFO:root:=====START=====\n"
     ]
    },
    {
     "ename": "IndexError",
     "evalue": "index 65 is out of bounds for axis 0 with size 65",
     "output_type": "error",
     "traceback": [
      "\u001b[0;31m---------------------------------------------------------------------------\u001b[0m",
      "\u001b[0;31mIndexError\u001b[0m                                Traceback (most recent call last)",
      "\u001b[0;32m<timed exec>\u001b[0m in \u001b[0;36m<module>\u001b[0;34m\u001b[0m\n",
      "\u001b[0;32m~/CR-ML/Notebook/script/CR_ML_Class.py\u001b[0m in \u001b[0;36mCreate_Pseudodata\u001b[0;34m(self)\u001b[0m\n\u001b[1;32m   1044\u001b[0m             \u001b[0marround\u001b[0m \u001b[0mone\u001b[0m \u001b[0mline\u001b[0m \u001b[0;34m+\u001b[0m \u001b[0mDelta_data\u001b[0m\u001b[0;34m\u001b[0m\u001b[0;34m\u001b[0m\u001b[0m\n\u001b[1;32m   1045\u001b[0m             '''      \n\u001b[0;32m-> 1046\u001b[0;31m             \u001b[0mspec_data_LiC\u001b[0m\u001b[0;34m[\u001b[0m\u001b[0mi\u001b[0m\u001b[0;34m,\u001b[0m\u001b[0;34m:\u001b[0m\u001b[0;34m]\u001b[0m \u001b[0;34m=\u001b[0m \u001b[0mnp\u001b[0m\u001b[0;34m.\u001b[0m\u001b[0mrandom\u001b[0m\u001b[0;34m.\u001b[0m\u001b[0muniform\u001b[0m\u001b[0;34m(\u001b[0m\u001b[0mtotal_data_divAp\u001b[0m\u001b[0;34m[\u001b[0m\u001b[0mrand\u001b[0m\u001b[0;34m,\u001b[0m\u001b[0;34m:\u001b[0m\u001b[0;34m,\u001b[0m\u001b[0;36m0\u001b[0m\u001b[0;34m]\u001b[0m\u001b[0;34m-\u001b[0m\u001b[0mdata_delta\u001b[0m\u001b[0;34m[\u001b[0m\u001b[0;34m:\u001b[0m\u001b[0;34m,\u001b[0m\u001b[0;36m0\u001b[0m\u001b[0;34m]\u001b[0m\u001b[0;34m,\u001b[0m \u001b[0mtotal_data_divAp\u001b[0m\u001b[0;34m[\u001b[0m\u001b[0mrand\u001b[0m\u001b[0;34m,\u001b[0m\u001b[0;34m:\u001b[0m\u001b[0;34m,\u001b[0m\u001b[0;36m0\u001b[0m\u001b[0;34m]\u001b[0m\u001b[0;34m+\u001b[0m\u001b[0mdata_delta\u001b[0m\u001b[0;34m[\u001b[0m\u001b[0;34m:\u001b[0m\u001b[0;34m,\u001b[0m\u001b[0;36m0\u001b[0m\u001b[0;34m]\u001b[0m\u001b[0;34m,\u001b[0m \u001b[0msize\u001b[0m\u001b[0;34m=\u001b[0m\u001b[0;32mNone\u001b[0m\u001b[0;34m)\u001b[0m\u001b[0;34m\u001b[0m\u001b[0;34m\u001b[0m\u001b[0m\n\u001b[0m\u001b[1;32m   1047\u001b[0m             \u001b[0mspec_data_BeC\u001b[0m\u001b[0;34m[\u001b[0m\u001b[0mi\u001b[0m\u001b[0;34m,\u001b[0m\u001b[0;34m:\u001b[0m\u001b[0;34m]\u001b[0m \u001b[0;34m=\u001b[0m \u001b[0mnp\u001b[0m\u001b[0;34m.\u001b[0m\u001b[0mrandom\u001b[0m\u001b[0;34m.\u001b[0m\u001b[0muniform\u001b[0m\u001b[0;34m(\u001b[0m\u001b[0mtotal_data_divAp\u001b[0m\u001b[0;34m[\u001b[0m\u001b[0mrand\u001b[0m\u001b[0;34m,\u001b[0m\u001b[0;34m:\u001b[0m\u001b[0;34m,\u001b[0m\u001b[0;36m1\u001b[0m\u001b[0;34m]\u001b[0m\u001b[0;34m-\u001b[0m\u001b[0mdata_delta\u001b[0m\u001b[0;34m[\u001b[0m\u001b[0;34m:\u001b[0m\u001b[0;34m,\u001b[0m\u001b[0;36m1\u001b[0m\u001b[0;34m]\u001b[0m\u001b[0;34m,\u001b[0m \u001b[0mtotal_data_divAp\u001b[0m\u001b[0;34m[\u001b[0m\u001b[0mrand\u001b[0m\u001b[0;34m,\u001b[0m\u001b[0;34m:\u001b[0m\u001b[0;34m,\u001b[0m\u001b[0;36m1\u001b[0m\u001b[0;34m]\u001b[0m\u001b[0;34m+\u001b[0m\u001b[0mdata_delta\u001b[0m\u001b[0;34m[\u001b[0m\u001b[0;34m:\u001b[0m\u001b[0;34m,\u001b[0m\u001b[0;36m1\u001b[0m\u001b[0;34m]\u001b[0m\u001b[0;34m,\u001b[0m \u001b[0msize\u001b[0m\u001b[0;34m=\u001b[0m\u001b[0;32mNone\u001b[0m\u001b[0;34m)\u001b[0m\u001b[0;34m\u001b[0m\u001b[0;34m\u001b[0m\u001b[0m\n\u001b[1;32m   1048\u001b[0m             \u001b[0mspec_data_BC\u001b[0m\u001b[0;34m[\u001b[0m\u001b[0mi\u001b[0m\u001b[0;34m,\u001b[0m\u001b[0;34m:\u001b[0m\u001b[0;34m]\u001b[0m  \u001b[0;34m=\u001b[0m \u001b[0mnp\u001b[0m\u001b[0;34m.\u001b[0m\u001b[0mrandom\u001b[0m\u001b[0;34m.\u001b[0m\u001b[0muniform\u001b[0m\u001b[0;34m(\u001b[0m\u001b[0mtotal_data_divAp\u001b[0m\u001b[0;34m[\u001b[0m\u001b[0mrand\u001b[0m\u001b[0;34m,\u001b[0m\u001b[0;34m:\u001b[0m\u001b[0;34m,\u001b[0m\u001b[0;36m2\u001b[0m\u001b[0;34m]\u001b[0m\u001b[0;34m-\u001b[0m\u001b[0mdata_delta\u001b[0m\u001b[0;34m[\u001b[0m\u001b[0;34m:\u001b[0m\u001b[0;34m,\u001b[0m\u001b[0;36m2\u001b[0m\u001b[0;34m]\u001b[0m\u001b[0;34m,\u001b[0m \u001b[0mtotal_data_divAp\u001b[0m\u001b[0;34m[\u001b[0m\u001b[0mrand\u001b[0m\u001b[0;34m,\u001b[0m\u001b[0;34m:\u001b[0m\u001b[0;34m,\u001b[0m\u001b[0;36m2\u001b[0m\u001b[0;34m]\u001b[0m\u001b[0;34m+\u001b[0m\u001b[0mdata_delta\u001b[0m\u001b[0;34m[\u001b[0m\u001b[0;34m:\u001b[0m\u001b[0;34m,\u001b[0m\u001b[0;36m2\u001b[0m\u001b[0;34m]\u001b[0m\u001b[0;34m,\u001b[0m \u001b[0msize\u001b[0m\u001b[0;34m=\u001b[0m\u001b[0;32mNone\u001b[0m\u001b[0;34m)\u001b[0m\u001b[0;34m\u001b[0m\u001b[0;34m\u001b[0m\u001b[0m\n",
      "\u001b[0;31mIndexError\u001b[0m: index 65 is out of bounds for axis 0 with size 65"
     ]
    }
   ],
   "source": [
    "%%time\n",
    "importlib.reload(CR)\n",
    "pseudoexp = CR.Create_Pseudodata(para_6_sigma, data_6_sigma, chi, LOW = 10 , HIGH = 100000 , number = , index=0).Create_Pseudodata()\n"
   ]
  },
  {
   "cell_type": "code",
   "execution_count": 16,
   "id": "functional-utilization",
   "metadata": {},
   "outputs": [
    {
     "name": "stdout",
     "output_type": "stream",
     "text": [
      "Help on class Create_Pseudodata in module script.CR_ML_Class:\n",
      "\n",
      "class Create_Pseudodata(builtins.object)\n",
      " |  Methods defined here:\n",
      " |  \n",
      " |  Create_Pseudodata(self)\n",
      " |      Usage: \n",
      " |          Create_Pseudodata(parameter, data, chi, LOW = 10 , HIGH = 30 , number = 100, index=0).Create_Pseudodata()\n",
      " |      Return:\n",
      " |          normalfactor, pseudodata\n",
      " |      Item:\n",
      " |          Null\n",
      " |  \n",
      " |  __init__(self, parameter=[], data=[], chi=[], LOW=10, HIGH=30, number=100, index=0)\n",
      " |      Usage: \n",
      " |          Create_Pseudodata(parameter, data, chi, LOW = 10 , HIGH = 30 , number = 100, index=0)\n",
      " |      Return:\n",
      " |          Null\n",
      " |      Item:\n",
      " |          Null\n",
      " |  \n",
      " |  ----------------------------------------------------------------------\n",
      " |  Data descriptors defined here:\n",
      " |  \n",
      " |  __dict__\n",
      " |      dictionary for instance variables (if defined)\n",
      " |  \n",
      " |  __weakref__\n",
      " |      list of weak references to the object (if defined)\n",
      "\n"
     ]
    }
   ],
   "source": [
    "importlib.reload(CR)\n",
    "\n",
    "help(CR.Create_Pseudodata)"
   ]
  },
  {
   "cell_type": "code",
   "execution_count": null,
   "id": "gentle-planet",
   "metadata": {},
   "outputs": [],
   "source": []
  }
 ],
 "metadata": {
  "kernelspec": {
   "display_name": "Python 3",
   "language": "python",
   "name": "python3"
  },
  "language_info": {
   "codemirror_mode": {
    "name": "ipython",
    "version": 3
   },
   "file_extension": ".py",
   "mimetype": "text/x-python",
   "name": "python",
   "nbconvert_exporter": "python",
   "pygments_lexer": "ipython3",
   "version": "3.6.8"
  }
 },
 "nbformat": 4,
 "nbformat_minor": 5
}
