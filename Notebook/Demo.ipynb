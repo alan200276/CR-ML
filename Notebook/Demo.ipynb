{
 "cells": [
  {
   "cell_type": "markdown",
   "id": "psychological-tamil",
   "metadata": {},
   "source": [
    "# CR ML Road Map\n",
    "\n",
    "\n",
    "- Step 1:\n",
    "    - TBA\n",
    "- Step 2:\n",
    "    - TBA \n",
    "- Step 3:\n",
    "    - TBA"
   ]
  },
  {
   "cell_type": "markdown",
   "id": "thrown-dairy",
   "metadata": {},
   "source": [
    "## Import Packages"
   ]
  },
  {
   "cell_type": "code",
   "execution_count": 2,
   "id": "returning-thailand",
   "metadata": {},
   "outputs": [
    {
     "name": "stdout",
     "output_type": "stream",
     "text": [
      "Tensorflow Version is 2.4.1\n",
      "Keras Version is 2.4.0\n",
      "/bin/bash: nvudia-smi: command not found\n"
     ]
    }
   ],
   "source": [
    "from __future__ import absolute_import, division, print_function, unicode_literals\n",
    "# basic python package\n",
    "import importlib\n",
    "import numpy as np\n",
    "import time\n",
    "import logging\n",
    "importlib.reload(logging)\n",
    "logging.basicConfig(level = logging.INFO)\n",
    "\n",
    "# python ploting packages\n",
    "import matplotlib.pyplot as plt\n",
    "from matplotlib.ticker import MaxNLocator\n",
    "from matplotlib.colors import ListedColormap, LinearSegmentedColormap, BoundaryNorm\n",
    "from matplotlib.collections import LineCollection\n",
    "from matplotlib import cm\n",
    "\n",
    "\n",
    "# self-define classes\n",
    "from script import CR_ML_Class as CR\n",
    "from script import load_mock_data as LD\n",
    "\n",
    "\n",
    "# tensorflow\n",
    "import tensorflow as tf\n",
    "from tensorflow.keras.models import Sequential, load_model\n",
    "print(\"Tensorflow Version is {}\".format(tf.__version__))\n",
    "print(\"Keras Version is {}\".format(tf.keras.__version__))\n",
    "!nvudia-smi"
   ]
  },
  {
   "cell_type": "markdown",
   "id": "nutritional-clone",
   "metadata": {},
   "source": [
    "## Transfrom Mock Data from Text File to Numpy Dataframe \n",
    "\n",
    "- Data Description:\n",
    "\n",
    "\n",
    "    - parameter : propagation and source parameters \n",
    "        numpy shape: (# of mock data, 14)\n",
    "            #parameter: original parameter \n",
    "            #new_parameter: recalculate the normal factor and Ap \n",
    "\n",
    "            raw1=D_0, \n",
    "            raw2=\\delta, \n",
    "            raw3=z_h, \n",
    "            raw4=v_A, \n",
    "            raw5=\\eta, \n",
    "            raw6=A_p, \n",
    "            raw7=\\nu_1, \n",
    "            raw8=\\nu_2, \n",
    "            raw9=log10(R_{br,1}), \n",
    "            raw10=\\nu_3, \n",
    "            raw11=log10(R_{br,2}), \n",
    "            raw12=N_{Li}, \n",
    "            raw13=N_{Be}, \n",
    "            raw14=N_{O}\n",
    "\n",
    "\n",
    "    - data: Mock data\n",
    "        numpy shape: (# of mock data, 84, 6)\n",
    "            84 means there are 84 energy bins from 1.000e-03 to 1.105e+05\n",
    "            6 means there are the spectrum for E, Li, Be, B, C, O\n",
    "            #data_0: original mocak data\n",
    "            #modify_data_0: reshape data accroding to recalculated parameters\n",
    "\n",
    "\n",
    "     - chi: chi-square \n",
    "        numpy shape: (# of mock data)\n",
    "            #new_chi: chi-square from \"modify_data\""
   ]
  },
  {
   "cell_type": "code",
   "execution_count": 8,
   "id": "micro-article",
   "metadata": {},
   "outputs": [
    {
     "name": "stderr",
     "output_type": "stream",
     "text": [
      "INFO:root:Thu Aug 05 14:41:34 2021\n",
      "INFO:root:Now loading...\n",
      "INFO:root:Total data: 52836\n",
      "INFO:root:\u001b[3;33mTime consumption : 0.7570 min\u001b[0;m\n",
      "INFO:root:Data Shape for 'parameter': (52836, 14)\n",
      "INFO:root:Data Shape for 'data': (4438224, 11)\n",
      "INFO:root:Data Shape for 'chisq': (52836,)\n"
     ]
    },
    {
     "name": "stdout",
     "output_type": "stream",
     "text": [
      "CPU times: user 44.7 s, sys: 1.47 s, total: 46.1 s\n",
      "Wall time: 46.1 s\n"
     ]
    }
   ],
   "source": [
    "%%time\n",
    "text_Data_path = \"../Data/Text_Mock_data/\"\n",
    "\n",
    "mockdata_1 = CR.Mock_Data_to_NumpyArray(text_Data_path + \"res_3x_1.txt\")\n",
    "parameter, data, chisq = mockdata_1.parameter, mockdata_1.spectrum, mockdata_1.chisq\n",
    "\n",
    "logging.info(\"Data Shape for 'parameter': {}\".format(parameter.shape))\n",
    "logging.info(\"Data Shape for 'data': {}\".format(data.shape))\n",
    "logging.info(\"Data Shape for 'chisq': {}\".format(chisq.shape))"
   ]
  },
  {
   "cell_type": "markdown",
   "id": "turned-livestock",
   "metadata": {},
   "source": [
    "## ReCalculate Normalilzed Factor for Mock Data\n",
    "\n",
    "- 1: Using \n",
    "    ```\n",
    "    CR.Mock_Data_Rescale(parameter, parameter, data)\n",
    "    ```\n",
    "    to split 'data' into Li, Be, B, C and O `spectra`.  \n",
    "    Note that we put the same 'parameter' here because we have not get new normalilzed factor yet\n",
    "    \n",
    "    - `spectra`: Mock data\n",
    "        numpy shape: (# of mock data, 84, 6)\n",
    "            84 means there are 84 energy bins from 1.000e-03 to 1.105e+05\n",
    "            6 means there are the spectrum for E, Li, Be, B, C, O\n",
    "            #data_0: original mocak data\n",
    "            #modify_data_0: reshape data accroding to recalculated paramete"
   ]
  },
  {
   "cell_type": "code",
   "execution_count": 11,
   "id": "fancy-battlefield",
   "metadata": {},
   "outputs": [
    {
     "name": "stderr",
     "output_type": "stream",
     "text": [
      "INFO:root:Data Shape for 'spectra_data': (52836, 84, 6)\n",
      "INFO:root:There are 52836 mock data.\n",
      "INFO:root:For each mock data, there are 84 energy bins.\n",
      "INFO:root:6 corresponding to E, Li, Be, B, C and O.\n"
     ]
    },
    {
     "name": "stdout",
     "output_type": "stream",
     "text": [
      "CPU times: user 338 ms, sys: 17.8 ms, total: 356 ms\n",
      "Wall time: 356 ms\n"
     ]
    }
   ],
   "source": [
    "%%time\n",
    "spectra_data = CR.Mock_Data_Rescale(parameter, parameter, data)\n",
    "spectra_data = spectra_data.data\n",
    "logging.info(\"Data Shape for 'spectra_data': {}\".format(spectra_data.shape))\n",
    "logging.info(\"There are {} mock data.\".format(spectra_data.shape[0]))\n",
    "logging.info(\"For each mock data, there are {} energy bins.\".format(spectra_data.shape[1]))\n",
    "logging.info(\"{} corresponding to E, Li, Be, B, C and O.\".format(spectra_data.shape[2]))"
   ]
  },
  {
   "cell_type": "code",
   "execution_count": 57,
   "id": "metallic-sound",
   "metadata": {},
   "outputs": [
    {
     "name": "stderr",
     "output_type": "stream",
     "text": [
      "INFO:root:Thu Aug 05 17:04:47 2021\n",
      "INFO:root:Finding best Ap\n",
      "INFO:root:=====START=====\n",
      "100%|██████████| 1000/1000 [00:03<00:00, 267.77it/s]\n",
      "INFO:root:\u001b[3;33m Time Cost for this Step : 0.0623 min\u001b[0;m\n",
      "INFO:root:=====Finish=====\n",
      "INFO:root:\u001b[3;33mTime Cost : 0.0625 min\u001b[0;m\n"
     ]
    },
    {
     "name": "stdout",
     "output_type": "stream",
     "text": [
      "CPU times: user 3.77 s, sys: 15.8 ms, total: 3.79 s\n",
      "Wall time: 3.78 s\n"
     ]
    }
   ],
   "source": [
    "%%time\n",
    "importlib.reload(CR)\n",
    "new_Ap = CR.ReCalculateAp(spectra_data[:1000]) \n",
    "new_Ap.GetBestAp()"
   ]
  },
  {
   "cell_type": "code",
   "execution_count": 32,
   "id": "effective-cannon",
   "metadata": {},
   "outputs": [
    {
     "name": "stderr",
     "output_type": "stream",
     "text": [
      "INFO:root:Thu Aug 05 16:52:04 2021\n"
     ]
    }
   ],
   "source": [
    "from scipy import interpolate\n",
    "\n",
    "logging.info(time.strftime(\"%a %b %d %H:%M:%S %Y\", time.localtime()))\n",
    "ticks_1 = time.time()\n",
    "#######################################################################################################\n",
    "\n",
    "\"\"\"\n",
    "Load Experimental Data\n",
    "\"\"\"\n",
    "####################################################################################\n",
    "exp_data_path = \"../Data/Exp_Data/\"\n",
    "\n",
    "LiAMS, LiV = np.load(exp_data_path + \"Li_AMS2.npy\"),np.load(exp_data_path + \"Li_Voyager.npy\")\n",
    "Li_Eams, Li_Fams, Li_Sams = LiAMS[0], LiAMS[1], LiAMS[2]\n",
    "Li_Evy, Li_Fvy, Li_Svy = LiV[0], LiV[1], LiV[2]\n",
    "\n",
    "BeAMS, BeV = np.load(exp_data_path + \"Be_AMS2.npy\"), np.load(exp_data_path + \"Be_Voyager.npy\")\n",
    "Be_Eams, Be_Fams, Be_Sams = BeAMS[0], BeAMS[1], BeAMS[2]\n",
    "Be_Evy, Be_Fvy, Be_Svy = BeV[0], BeV[1], BeV[2]\n",
    "\n",
    "BAMS, BV, BA = np.load(exp_data_path + \"B_AMS2.npy\"), np.load(exp_data_path + \"B_Voyager.npy\"), np.load(exp_data_path + \"B_ACE.npy\")\n",
    "B_Eams, B_Fams, B_Sams = BAMS[0], BAMS[1], BAMS[2]\n",
    "B_Evy, B_Fvy, B_Svy = BV[0], BV[1], BV[2]\n",
    "B_Eace,B_Face,B_Sace = BA[0], BA[1], BA[2]\n",
    "\n",
    "CAMS, CV, CA = np.load(exp_data_path + \"C_AMS2.npy\"), np.load(exp_data_path + \"C_Voyager.npy\"), np.load(exp_data_path + \"C_ACE.npy\")\n",
    "C_Eams, C_Fams, C_Sams = CAMS[0], CAMS[1], CAMS[2]\n",
    "C_Evy, C_Fvy, C_Svy = CV[0], CV[1], CV[2]\n",
    "C_Eace,C_Face,C_Sace = CA[0], CA[1], CA[2]\n",
    "\n",
    "OAMS, OV, OA = np.load(exp_data_path + \"O_AMS2.npy\"), np.load(exp_data_path + \"O_Voyager.npy\"), np.load(exp_data_path + \"O_ACE.npy\")\n",
    "O_Eams, O_Fams, O_Sams = OAMS[0], OAMS[1], OAMS[2]\n",
    "O_Evy, O_Fvy, O_Svy = OV[0], OV[1], OV[2]\n",
    "O_Eace,O_Face,O_Sace = OA[0], OA[1], OA[2]\n",
    "####################################################################################\n",
    "\n",
    "def findbestAp(E,Li,Be,B,C,O):\n",
    "    aplist = np.linspace(1.9135/5.,7.0114/5.,120)\n",
    "    chisq = []\n",
    "    for ap in aplist:     \n",
    "        norm_interpolate_Li = interpolate.interp1d((E), (Li*ap), kind='cubic')\n",
    "        norm_interpolate_Be = interpolate.interp1d((E), (Be*ap), kind='cubic')\n",
    "        pred_interpolate_B  = interpolate.interp1d((E), (B*ap), kind='cubic')\n",
    "        pred_interpolate_C  = interpolate.interp1d((E), (C*ap), kind='cubic')\n",
    "        norm_interpolate_O  = interpolate.interp1d((E), (O*ap), kind='cubic')\n",
    "        chisq.append(     np.sum((norm_interpolate_Li(Li_Eams)-np.array(Li_Fams))**2/np.array(Li_Sams)**2)+\n",
    "                          np.sum((norm_interpolate_Li(Li_Evy)-np.array(Li_Fvy))**2/np.array(Li_Svy)**2)+\n",
    "\n",
    "                          np.sum((norm_interpolate_Be(Be_Eams)-np.array(Be_Fams))**2/np.array(Be_Sams)**2)+\n",
    "                          np.sum((norm_interpolate_Be(Be_Evy)-np.array(Be_Fvy))**2/np.array(Be_Svy)**2)+\n",
    "\n",
    "                          np.sum((pred_interpolate_B(B_Eams)-np.array(B_Fams))**2/np.array(B_Sams)**2)+\n",
    "                          np.sum((pred_interpolate_B(B_Evy)-np.array(B_Fvy))**2/np.array(B_Svy)**2)+\n",
    "                          np.sum((pred_interpolate_B(B_Eace)-np.array(B_Face))**2/np.array(B_Sace)**2)+\n",
    "\n",
    "                          np.sum((pred_interpolate_C(C_Eams)-np.array(C_Fams))**2/np.array(C_Sams)**2)+\n",
    "                          np.sum((pred_interpolate_C(C_Evy)-np.array(C_Fvy))**2/np.array(C_Svy)**2)+\n",
    "                          np.sum((pred_interpolate_C(C_Eace)-np.array(C_Face))**2/np.array(C_Sace)**2)+\n",
    "\n",
    "                          np.sum((norm_interpolate_O(O_Eams)-np.array(O_Fams))**2/np.array(O_Sams)**2)+\n",
    "                          np.sum((norm_interpolate_O(O_Evy)-np.array(O_Fvy))**2/np.array(O_Svy)**2)+\n",
    "                          np.sum((norm_interpolate_O(O_Eace)-np.array(O_Face))**2/np.array(O_Sace)**2)\n",
    "                         )\n",
    "    return chisq.index(min(chisq)), chisq"
   ]
  },
  {
   "cell_type": "code",
   "execution_count": 33,
   "id": "limiting-accessory",
   "metadata": {},
   "outputs": [
    {
     "name": "stdout",
     "output_type": "stream",
     "text": [
      "CPU times: user 239 ms, sys: 3.01 ms, total: 242 ms\n",
      "Wall time: 240 ms\n"
     ]
    }
   ],
   "source": [
    "%%time\n",
    "aaa = findbestAp(E[0],Li[0],Be[0],B[0],C[0],O[0])"
   ]
  },
  {
   "cell_type": "code",
   "execution_count": 40,
   "id": "psychological-comedy",
   "metadata": {},
   "outputs": [
    {
     "name": "stdout",
     "output_type": "stream",
     "text": [
      "24282.9517446915\n"
     ]
    }
   ],
   "source": [
    "from scipy import interpolate\n",
    "def interpolate_chisq(P,F,S):\n",
    "    return np.round(np.sum(((P-np.array(F))**2)/(np.array(S)**2), axis=0), 10)\n",
    "E, Li, Be, B, C, O = spectra_data[:,:,0], spectra_data[:,:,1],spectra_data[:,:,2],spectra_data[:,:,3],spectra_data[:,:,4],spectra_data[:,:,5]\n",
    "\n",
    "aplist = np.linspace(1.9135/5.,7.0114/5.,120)\n",
    "norm_interpolate_Li = interpolate.interp1d((E[0]), (Li[0]*aplist[0]), kind='cubic')\n",
    "\n",
    "print(interpolate_chisq(norm_interpolate_Li(Li_Eams),Li_Fams,Li_Sams))"
   ]
  },
  {
   "cell_type": "code",
   "execution_count": 41,
   "id": "considered-fraction",
   "metadata": {},
   "outputs": [
    {
     "name": "stdout",
     "output_type": "stream",
     "text": [
      "(120,)\n",
      "(120,)\n",
      "CPU times: user 11.1 ms, sys: 76 µs, total: 11.2 ms\n",
      "Wall time: 9.55 ms\n"
     ]
    }
   ],
   "source": [
    "%%time\n",
    "def interpolate_chisq(P,F,S):\n",
    "    return np.round(np.sum(((P-np.array(F))**2)/(np.array(S)**2), axis=1), 10)\n",
    "E, Li, Be, B, C, O = spectra_data[:,:,0], spectra_data[:,:,1],spectra_data[:,:,2],spectra_data[:,:,3],spectra_data[:,:,4],spectra_data[:,:,5]\n",
    "\n",
    "aplist = np.linspace(1.9135/5.,7.0114/5.,120).reshape(120,1)\n",
    "norm_interpolate_Li = interpolate.interp1d((E[0]), (Li[0]*aplist), kind='cubic')\n",
    "norm_interpolate_Be = interpolate.interp1d((E[0]), (Be[0]*aplist), kind='cubic')\n",
    "pred_interpolate_B  = interpolate.interp1d((E[0]), (B[0]*aplist), kind='cubic')\n",
    "pred_interpolate_C  = interpolate.interp1d((E[0]), (C[0]*aplist), kind='cubic')\n",
    "norm_interpolate_O  = interpolate.interp1d((E[0]), (O[0]*aplist), kind='cubic')\n",
    "\n",
    "chisq = (interpolate_chisq(norm_interpolate_Li(Li_Eams),Li_Fams,Li_Sams)+\n",
    "        interpolate_chisq(norm_interpolate_Li(Li_Evy),Li_Fvy,Li_Svy)+\n",
    "    \n",
    "        interpolate_chisq(norm_interpolate_Be(Be_Eams),Be_Fams,Be_Sams)+\n",
    "        interpolate_chisq(norm_interpolate_Be(Be_Evy),Be_Fvy,Be_Svy)+\n",
    "        \n",
    "        interpolate_chisq(pred_interpolate_B(B_Eams),B_Fams,B_Sams)+\n",
    "        interpolate_chisq(pred_interpolate_B(B_Evy),B_Fvy,B_Svy)+\n",
    "        interpolate_chisq(pred_interpolate_B(B_Eace),B_Face,B_Sace)+\n",
    "        \n",
    "        interpolate_chisq(pred_interpolate_C(C_Eams),C_Fams,C_Sams)+\n",
    "        interpolate_chisq(pred_interpolate_C(C_Evy),C_Fvy,C_Svy)+\n",
    "        interpolate_chisq(pred_interpolate_C(C_Eace),C_Face,C_Sace)+\n",
    "        \n",
    "        interpolate_chisq(norm_interpolate_O(O_Eams),O_Fams,O_Sams)+\n",
    "        interpolate_chisq(norm_interpolate_O(O_Evy),O_Fvy,O_Svy)+\n",
    "        interpolate_chisq(norm_interpolate_O(O_Eace),O_Face,O_Sace))\n",
    "        \n",
    "        \n",
    "        \n",
    "\n",
    "print(interpolate_chisq(norm_interpolate_Li(Li_Eams),Li_Fams,Li_Sams).shape)\n",
    "print(chisq.shape)"
   ]
  },
  {
   "cell_type": "code",
   "execution_count": 50,
   "id": "underlying-delivery",
   "metadata": {},
   "outputs": [
    {
     "data": {
      "text/plain": [
       "array([[0.99958874]])"
      ]
     },
     "execution_count": 50,
     "metadata": {},
     "output_type": "execute_result"
    }
   ],
   "source": [
    "aplist[np.where(chisq == min(chisq))[0]]"
   ]
  },
  {
   "cell_type": "code",
   "execution_count": null,
   "id": "cardiovascular-spiritual",
   "metadata": {},
   "outputs": [],
   "source": []
  }
 ],
 "metadata": {
  "kernelspec": {
   "display_name": "Python 3",
   "language": "python",
   "name": "python3"
  },
  "language_info": {
   "codemirror_mode": {
    "name": "ipython",
    "version": 3
   },
   "file_extension": ".py",
   "mimetype": "text/x-python",
   "name": "python",
   "nbconvert_exporter": "python",
   "pygments_lexer": "ipython3",
   "version": "3.6.8"
  }
 },
 "nbformat": 4,
 "nbformat_minor": 5
}
