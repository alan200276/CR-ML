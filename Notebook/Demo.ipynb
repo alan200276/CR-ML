{
 "cells": [
  {
   "cell_type": "markdown",
   "id": "civil-married",
   "metadata": {},
   "source": [
    "# CR ML Road Map\n",
    "\n",
    "\n",
    "- Step 1:\n",
    "    - Transfrom Mock Data from Text File to Numpy Dataframe \n",
    "- Step 2:\n",
    "    - ReCalculate Normalized Factor for Mock Data\n",
    "- Step 3:\n",
    "    - Machine Learning\n",
    "        - using whole data to train\n",
    "        - retrain the model with the data in 6 $\\sigma$ CL region "
   ]
  },
  {
   "cell_type": "markdown",
   "id": "patent-challenge",
   "metadata": {},
   "source": [
    "## Import Packages"
   ]
  },
  {
   "cell_type": "code",
   "execution_count": 2,
   "id": "thrown-lawrence",
   "metadata": {},
   "outputs": [
    {
     "name": "stdout",
     "output_type": "stream",
     "text": [
      "Tensorflow Version is 2.4.1\n",
      "Keras Version is 2.4.0\n",
      "/bin/bash: nvudia-smi: command not found\n"
     ]
    }
   ],
   "source": [
    "from __future__ import absolute_import, division, print_function, unicode_literals\n",
    "# basic python package\n",
    "import importlib\n",
    "import numpy as np\n",
    "import time\n",
    "import logging\n",
    "importlib.reload(logging)\n",
    "logging.basicConfig(level = logging.INFO)\n",
    "\n",
    "# python ploting packages\n",
    "import matplotlib.pyplot as plt\n",
    "from matplotlib.ticker import MaxNLocator\n",
    "from matplotlib.colors import ListedColormap, LinearSegmentedColormap, BoundaryNorm\n",
    "from matplotlib.collections import LineCollection\n",
    "from matplotlib import cm\n",
    "\n",
    "\n",
    "# self-define classes\n",
    "from script import CR_ML_Class as CR\n",
    "from script import load_mock_data as LD\n",
    "\n",
    "\n",
    "# tensorflow\n",
    "import tensorflow as tf\n",
    "from tensorflow.keras.models import Sequential, load_model\n",
    "print(\"Tensorflow Version is {}\".format(tf.__version__))\n",
    "print(\"Keras Version is {}\".format(tf.keras.__version__))\n",
    "!nvudia-smi"
   ]
  },
  {
   "cell_type": "markdown",
   "id": "rational-stephen",
   "metadata": {},
   "source": [
    "## Transfrom Mock Data from Text File to Numpy Dataframe \n",
    "\n",
    "- Data Description:\n",
    "\n",
    "\n",
    "    - parameter : propagation and source parameters \n",
    "        numpy shape: (# of mock data, 14)\n",
    "            #parameter: original parameter \n",
    "            #new_parameter: recalculate the normal factor and Ap \n",
    "\n",
    "            raw1=D_0, \n",
    "            raw2=\\delta, \n",
    "            raw3=z_h, \n",
    "            raw4=v_A, \n",
    "            raw5=\\eta, \n",
    "            raw6=A_p, \n",
    "            raw7=\\nu_1, \n",
    "            raw8=\\nu_2, \n",
    "            raw9=log10(R_{br,1}), \n",
    "            raw10=\\nu_3, \n",
    "            raw11=log10(R_{br,2}), \n",
    "            raw12=N_{Li}, \n",
    "            raw13=N_{Be}, \n",
    "            raw14=N_{O}\n",
    "\n",
    "\n",
    "    - data: Mock data\n",
    "        numpy shape: (# of mock data, 84, 6)\n",
    "            84 means there are 84 energy bins from 1.000e-03 to 1.105e+05\n",
    "            6 means there are the spectrum for E, Li, Be, B, C, O\n",
    "            #data_0: original mocak data\n",
    "            #modify_data_0: reshape data accroding to recalculated parameters\n",
    "\n",
    "\n",
    "     - chi: chi-square \n",
    "        numpy shape: (# of mock data)\n",
    "            #new_chi: chi-square from \"modify_data\""
   ]
  },
  {
   "cell_type": "code",
   "execution_count": 130,
   "id": "liquid-behavior",
   "metadata": {},
   "outputs": [
    {
     "name": "stderr",
     "output_type": "stream",
     "text": [
      "INFO:root:Fri Aug 06 01:57:17 2021\n",
      "INFO:root:Now loading...\n",
      "INFO:root:Total data: 30000\n",
      "INFO:root:\u001b[3;33mTime consumption : 0.4208 min\u001b[0;m\n",
      "INFO:root:Data Shape for 'parameter': (30000, 15)\n",
      "INFO:root:Data Shape for 'data': (2520000, 11)\n",
      "INFO:root:Data Shape for 'chisq': (30000,)\n"
     ]
    },
    {
     "name": "stdout",
     "output_type": "stream",
     "text": [
      "CPU times: user 25.1 s, sys: 536 ms, total: 25.7 s\n",
      "Wall time: 25.7 s\n"
     ]
    }
   ],
   "source": [
    "%%time\n",
    "text_Data_path = \"../Data/Text_Mock_data/\"\n",
    "\n",
    "# mockdata_1 = CR.Mock_Data_to_NumpyArray(text_Data_path + \"res_3x_1.txt\")\n",
    "mockdata_1 = CR.Mock_Data_to_NumpyArray(text_Data_path + \"return_4.txt\")\n",
    "origin_parameter, data, chisq = mockdata_1.parameter, mockdata_1.spectrum, mockdata_1.chisq\n",
    "\n",
    "logging.info(\"Data Shape for 'parameter': {}\".format(origin_parameter.shape))\n",
    "logging.info(\"Data Shape for 'data': {}\".format(data.shape))\n",
    "logging.info(\"Data Shape for 'chisq': {}\".format(chisq.shape))"
   ]
  },
  {
   "cell_type": "markdown",
   "id": "royal-muslim",
   "metadata": {},
   "source": [
    "## ReCalculate Normalized Factor for Mock Data\n",
    "\n",
    "- 1: Using   \n",
    "    `CR.Mock_Data_Rescale(parameter, parameter, data)`   \n",
    "    to split 'data' into Li, Be, B, C and O `spectra`.  \n",
    "    Note that we put the same 'parameter' here because we have not get new normalized factor yet\n",
    "    \n",
    "    - `spectra`: Mock data\n",
    "        numpy shape: (# of mock data, 84, 6)\n",
    "            84 means there are 84 energy bins from 1.000e-03 to 1.105e+05\n",
    "            6 means there are the spectrum for E, Li, Be, B, C, O\n",
    "            #data_0: original mocak data\n",
    "            #modify_data_0: reshape data accroding to recalculated paramete"
   ]
  },
  {
   "cell_type": "code",
   "execution_count": 131,
   "id": "formed-victor",
   "metadata": {},
   "outputs": [
    {
     "name": "stderr",
     "output_type": "stream",
     "text": [
      "INFO:root:Data Shape for 'spectra_data': (30000, 84, 6)\n",
      "INFO:root:There are 30000 mock data.\n",
      "INFO:root:For each mock data, there are 84 energy bins.\n",
      "INFO:root:6 corresponding to E, Li, Be, B, C and O.\n"
     ]
    },
    {
     "name": "stdout",
     "output_type": "stream",
     "text": [
      "CPU times: user 172 ms, sys: 24 ms, total: 196 ms\n",
      "Wall time: 195 ms\n"
     ]
    }
   ],
   "source": [
    "%%time\n",
    "spectra_data = CR.Mock_Data_Rescale(origin_parameter=origin_parameter, new_parameter=origin_parameter, spectrum=data, usedata=False)\n",
    "logging.info(\"Data Shape for 'spectra_data': {}\".format(spectra_data.data.shape))\n",
    "logging.info(\"There are {} mock data.\".format(spectra_data.data.shape[0]))\n",
    "logging.info(\"For each mock data, there are {} energy bins.\".format(spectra_data.data.shape[1]))\n",
    "logging.info(\"{} corresponding to E, Li, Be, B, C and O.\".format(spectra_data.data.shape[2]))"
   ]
  },
  {
   "cell_type": "markdown",
   "id": "opposed-speaking",
   "metadata": {},
   "source": [
    "- 2: Using  \n",
    "`CR.ReCalculateAp(spectra_data.data)`   \n",
    "  to recalculate Ap"
   ]
  },
  {
   "cell_type": "code",
   "execution_count": 132,
   "id": "demographic-delta",
   "metadata": {},
   "outputs": [
    {
     "name": "stderr",
     "output_type": "stream",
     "text": [
      "INFO:root:Fri Aug 06 01:57:43 2021\n",
      "INFO:root:Finding best Ap\n",
      "INFO:root:=====START=====\n",
      "100%|██████████| 100/100 [00:00<00:00, 111.24it/s]\n",
      "INFO:root:\u001b[3;33m Time Cost for this Step : 0.0150 min\u001b[0;m\n",
      "INFO:root:=====Finish=====\n",
      "INFO:root:\u001b[3;33mTime Cost : 0.0152 min\u001b[0;m\n"
     ]
    },
    {
     "name": "stdout",
     "output_type": "stream",
     "text": [
      "CPU times: user 908 ms, sys: 7.98 ms, total: 916 ms\n",
      "Wall time: 919 ms\n"
     ]
    }
   ],
   "source": [
    "%%time\n",
    "importlib.reload(CR)\n",
    "new_Ap = CR.ReCalculateAp(spectra_data.data[:100]) \n",
    "new_Ap.GetBestAp()"
   ]
  },
  {
   "cell_type": "markdown",
   "id": "mediterranean-friday",
   "metadata": {},
   "source": [
    "- 3: Using   \n",
    "`CR.ReCalculateN((spectra_data.new_parameter,spectra_data.data,ap=new_Ap.ap_5))`  \n",
    "to recalculate normalized factor ($N_{Li}$, $N_{Be}$ and $N_{O}$)"
   ]
  },
  {
   "cell_type": "code",
   "execution_count": 138,
   "id": "detected-bathroom",
   "metadata": {},
   "outputs": [
    {
     "name": "stderr",
     "output_type": "stream",
     "text": [
      "INFO:root:Fri Aug 06 01:59:41 2021\n",
      "INFO:root:Finding New Normalized Factor\n",
      "INFO:root:=====START=====\n",
      "100%|██████████| 100/100 [00:01<00:00, 80.12it/s]\n",
      "INFO:root:\u001b[3;33m Time Cost for this Step : 0.0208 min\u001b[0;m\n",
      "INFO:root:=====Finish=====\n",
      "INFO:root:\u001b[3;33mTime Cost : 0.0211 min\u001b[0;m\n"
     ]
    },
    {
     "name": "stdout",
     "output_type": "stream",
     "text": [
      "CPU times: user 1.27 s, sys: 5.93 ms, total: 1.27 s\n",
      "Wall time: 1.27 s\n"
     ]
    }
   ],
   "source": [
    "%%time\n",
    "importlib.reload(CR)\n",
    "new_normalized_factor = CR.ReCalculateN(spectra_data.new_parameter[:100],spectra_data.data[:100],ap=new_Ap.ap_5)\n",
    "new_normalized_factor.GetBestN()"
   ]
  },
  {
   "cell_type": "markdown",
   "id": "informal-boundary",
   "metadata": {},
   "source": [
    "- 4: Using   \n",
    "    `CR.New_Parameter(spectra_data.new_parameter,new_normalized_factor.new_factor,ap_5=new_Ap.ap_5).new_parameter`\n",
    "    to get new parameter array"
   ]
  },
  {
   "cell_type": "code",
   "execution_count": 143,
   "id": "played-logan",
   "metadata": {},
   "outputs": [
    {
     "name": "stderr",
     "output_type": "stream",
     "text": [
      "INFO:root:Fri Aug 06 02:00:36 2021\n",
      "INFO:root:\u001b[3;33mTime Cost : 0.0000 min\u001b[0;m\n"
     ]
    },
    {
     "name": "stdout",
     "output_type": "stream",
     "text": [
      "CPU times: user 2.67 ms, sys: 6 µs, total: 2.68 ms\n",
      "Wall time: 1.98 ms\n"
     ]
    }
   ],
   "source": [
    "%%time\n",
    "new_parameter = CR.New_Parameter(spectra_data.new_parameter[:100],new_normalized_factor.new_factor,ap_5=new_Ap.ap_5).new_parameter"
   ]
  },
  {
   "cell_type": "markdown",
   "id": "successful-schema",
   "metadata": {},
   "source": [
    "- 5: Put `origin_parameter` and `new_parameter` back into  \n",
    "    `CR.Mock_Data_Rescale(parameter, new_parameter, spectra_data.data,usedata = True)`  \n",
    "    to get `new parameter` array, `new data` array and new $\\chi^2$`. "
   ]
  },
  {
   "cell_type": "code",
   "execution_count": 144,
   "id": "skilled-gathering",
   "metadata": {},
   "outputs": [
    {
     "name": "stderr",
     "output_type": "stream",
     "text": [
      "INFO:root:Fri Aug 06 02:00:37 2021\n",
      "INFO:root:Fit the Spectrum.\n",
      "INFO:root:=====START=====\n",
      "INFO:root:\u001b[3;33m Time Cost for this Step : 0.0001 min\u001b[0;m\n",
      "INFO:root:=====Finish=====\n",
      "INFO:root:Calculate Chi-Square.\n",
      "INFO:root:=====START=====\n",
      "INFO:root:\u001b[3;33m Time Cost for this Step : 0.0001 min\u001b[0;m\n",
      "INFO:root:=====Finish=====\n",
      "INFO:root:\n",
      "\n",
      "INFO:root:\u001b[3;33m Total Time Consumption : 0.0004 min\u001b[0;m\n",
      "INFO:root:Data Shape for 'parameter': (100, 14)\n",
      "INFO:root:Data Shape for 'data': (100, 84, 6)\n",
      "INFO:root:Data Shape for 'chi': (100,)\n"
     ]
    },
    {
     "name": "stdout",
     "output_type": "stream",
     "text": [
      "CPU times: user 28.1 ms, sys: 3.04 ms, total: 31.1 ms\n",
      "Wall time: 27.4 ms\n"
     ]
    }
   ],
   "source": [
    "%%time\n",
    "new_spectra_data = CR.Mock_Data_Rescale(origin_parameter[:100], new_parameter, spectra_data.data[:100], usedata = True)\n",
    "\n",
    "parameter = new_spectra_data.new_parameter\n",
    "data = new_spectra_data.data\n",
    "\n",
    "chisq = CR.Calculate_Chi_Square(data=data,usedata=True) \n",
    "chi = chisq.chi_square()\n",
    "\n",
    "logging.info(\"Data Shape for 'parameter': {}\".format(parameter.shape))\n",
    "logging.info(\"Data Shape for 'data': {}\".format(data.shape))\n",
    "logging.info(\"Data Shape for 'chi': {}\".format(chi.shape))"
   ]
  },
  {
   "cell_type": "markdown",
   "id": "broadband-portugal",
   "metadata": {},
   "source": [
    "- 6: Using  \n",
    "    `CR.Select_Sample(chi_para, chi_data, chi_sele,1).Sample()`  \n",
    "    to seperate data into different CL region."
   ]
  },
  {
   "cell_type": "code",
   "execution_count": 147,
   "id": "european-congress",
   "metadata": {},
   "outputs": [
    {
     "name": "stderr",
     "output_type": "stream",
     "text": [
      "INFO:root:There are 5 data in the 1 σ region.\n",
      "INFO:root:\u001b[3;33mTime consumption : 0.0000 min\u001b[0;m\n",
      "INFO:root:There are 9 data in the 2 σ region.\n",
      "INFO:root:\u001b[3;33mTime consumption : 0.0000 min\u001b[0;m\n",
      "INFO:root:There are 20 data in the 3 σ region.\n",
      "INFO:root:\u001b[3;33mTime consumption : 0.0000 min\u001b[0;m\n",
      "INFO:root:There are 35 data in the 4 σ region.\n",
      "INFO:root:\u001b[3;33mTime consumption : 0.0000 min\u001b[0;m\n",
      "INFO:root:There are 46 data in the 5 σ region.\n",
      "INFO:root:\u001b[3;33mTime consumption : 0.0000 min\u001b[0;m\n",
      "INFO:root:There are 65 data in the 6 σ region.\n",
      "INFO:root:\u001b[3;33mTime consumption : 0.0000 min\u001b[0;m\n"
     ]
    },
    {
     "name": "stdout",
     "output_type": "stream",
     "text": [
      "CPU times: user 17.8 ms, sys: 3.97 ms, total: 21.8 ms\n",
      "Wall time: 18.1 ms\n"
     ]
    }
   ],
   "source": [
    "%%time\n",
    "importlib.reload(CR)\n",
    "chi_para, chi_data, chi_sele = parameter, data, chi\n",
    "\n",
    "para_1_sigma, data_1_sigma, _ =  CR.Select_Sample(chi_para, chi_data, chi_sele,1).Sample()\n",
    "para_2_sigma, data_2_sigma, _ =  CR.Select_Sample(chi_para, chi_data, chi_sele,2).Sample()\n",
    "para_3_sigma, data_3_sigma, _ =  CR.Select_Sample(chi_para, chi_data, chi_sele,3).Sample()\n",
    "para_4_sigma, data_4_sigma, _ =  CR.Select_Sample(chi_para, chi_data, chi_sele,4).Sample()\n",
    "para_5_sigma, data_5_sigma, _ =  CR.Select_Sample(chi_para, chi_data, chi_sele,5).Sample()\n",
    "para_6_sigma, data_6_sigma, _ =  CR.Select_Sample(chi_para, chi_data, chi_sele,6).Sample()"
   ]
  },
  {
   "cell_type": "markdown",
   "id": "commercial-scope",
   "metadata": {},
   "source": [
    "# Machine Learning\n",
    "\n",
    "- 1: Using  \n",
    "     `CR.Mock_Data_Processing(parameter=parameter, data=data, usedata = True)`\n",
    "     and\n",
    "     `.Train_Test_split(splitrate = 0.1, split = True)`   \n",
    "     to whitening data and split into training and test data set with the ratio 9:1."
   ]
  },
  {
   "cell_type": "code",
   "execution_count": 149,
   "id": "collectible-malaysia",
   "metadata": {},
   "outputs": [
    {
     "name": "stderr",
     "output_type": "stream",
     "text": [
      "INFO:root:Fri Aug 06 02:05:53 2021\n",
      "INFO:root:\u001b[3;33mPrepare Ratio\u001b[0;m\n",
      "INFO:root:Fri Aug 06 02:05:53 2021\n",
      "INFO:root:Whitening\n",
      "INFO:root:=====START=====\n",
      "INFO:root:\u001b[3;33m Time Cost for this Step : 0.0000 min\u001b[0;m\n",
      "INFO:root:=====Finish=====\n",
      "INFO:root:\u001b[3;33mTime Cost : 0.0001 min\u001b[0;m\n",
      "INFO:root:random split traning sample and test sample, 10% for test\n",
      "INFO:root:=====START=====\n",
      "INFO:root:\u001b[3;33m Time Cost for this Step : 0.0000 min\u001b[0;m\n",
      "INFO:root:=====Finish=====\n",
      "INFO:root:Shape for training Input: (90, 8, 84)\n",
      "INFO:root:Shape for  testing Input: (10, 8, 84)\n",
      "INFO:root:Shape for training Target: (90, 10)\n",
      "INFO:root:Shape for  testing Target: (10, 10)\n",
      "INFO:root:\u001b[3;33mTime Cost : 0.0005 min\u001b[0;m\n"
     ]
    },
    {
     "name": "stdout",
     "output_type": "stream",
     "text": [
      "CPU times: user 31.4 ms, sys: 6.94 ms, total: 38.4 ms\n",
      "Wall time: 35 ms\n"
     ]
    }
   ],
   "source": [
    "%%time\n",
    "importlib.reload(CR)\n",
    "data_processing = CR.Mock_Data_Processing(parameter=parameter, data=data, usedata = True)\n",
    "data_processing.Train_Test_split(splitrate = 0.1, split = True)\n",
    "\n",
    "input_train, input_test = data_processing.input_train, data_processing.input_test\n",
    "source_train, source_test = data_processing.source_train, data_processing.source_test\n",
    "\n"
   ]
  },
  {
   "cell_type": "markdown",
   "id": "functioning-possibility",
   "metadata": {},
   "source": [
    "- 2:Using   \n",
    "    `ML.ML_Training(input_train,input_test,source_train,source_test,EPOCH=10, save_path=\"./\")`\n",
    "    to train a model with whole CL region."
   ]
  },
  {
   "cell_type": "code",
   "execution_count": 161,
   "id": "binding-union",
   "metadata": {},
   "outputs": [
    {
     "name": "stderr",
     "output_type": "stream",
     "text": [
      "INFO:root:\n",
      "-----------------------------------------------------------\n",
      "\"\"python3\"\"\n",
      "\u001b[3;32m ML_Training.py \u001b[0;m\n",
      "\u001b[3;31m Usage: ML_Training(input_train,input_test,source_train,source_test,EPOCH=100,save_path=\"save_path\") \u001b[0;m\n",
      "\u001b[3;31m        Trained Model will be stroed in \"Model\" directory \u001b[0;m\n",
      "\u001b[3;31m Usage: Load_ML_ML_Training(input_train,input_test,source_train,source_test,model_path,EPOCH=250,BATCH=256,save_path=\"save_path\")\u001b[0;m\n",
      "\u001b[3;31m        Load Model for snd training \u001b[0;m\n",
      "\u001b[3;31m        Trained Model will be stroed in \"Model\" directory \u001b[0;m\n",
      "\n",
      "\n",
      "-----------------------------------------------------------\n",
      "\n",
      "INFO:root:Fri Aug 06 02:23:59 2021\n"
     ]
    },
    {
     "name": "stdout",
     "output_type": "stream",
     "text": [
      "Model: \"Sequential\"\n",
      "_________________________________________________________________\n",
      "Layer (type)                 Output Shape              Param #   \n",
      "=================================================================\n",
      "Conv1D_input (Conv1D)        (None, 8, 512)            43520     \n",
      "_________________________________________________________________\n",
      "Conv1D_1 (Conv1D)            (None, 8, 512)            262656    \n",
      "_________________________________________________________________\n",
      "Conv1D_2 (Conv1D)            (None, 8, 256)            131328    \n",
      "_________________________________________________________________\n",
      "Conv1D_3 (Conv1D)            (None, 8, 256)            65792     \n",
      "_________________________________________________________________\n",
      "Conv1D_4 (Conv1D)            (None, 8, 128)            32896     \n",
      "_________________________________________________________________\n",
      "max_pooling1d_3 (MaxPooling1 (None, 4, 128)            0         \n",
      "_________________________________________________________________\n",
      "flatten_3 (Flatten)          (None, 512)               0         \n",
      "_________________________________________________________________\n",
      "Dense_1 (Dense)              (None, 128)               65664     \n",
      "_________________________________________________________________\n",
      "Dense_2 (Dense)              (None, 128)               16512     \n",
      "_________________________________________________________________\n",
      "Dense_3 (Dense)              (None, 64)                8256      \n",
      "_________________________________________________________________\n",
      "Dense_4 (Dense)              (None, 64)                4160      \n",
      "_________________________________________________________________\n",
      "Dense_5 (Dense)              (None, 32)                2080      \n",
      "_________________________________________________________________\n",
      "Dense_out (Dense)            (None, 10)                330       \n",
      "=================================================================\n",
      "Total params: 633,194\n",
      "Trainable params: 633,194\n",
      "Non-trainable params: 0\n",
      "_________________________________________________________________\n",
      "Epoch 1/10\n",
      "3/3 [==============================] - 2s 431ms/step - loss: 0.1458 - accuracy: 0.0167 - mse: 0.3317 - mae: 0.4439 - mape: 231.6022 - val_loss: 0.0496 - val_accuracy: 0.0000e+00 - val_mse: 0.1021 - val_mae: 0.2841 - val_mape: 119.6759\n",
      "\n",
      "Epoch 00001: val_loss improved from inf to 0.04959, saving model to .//Model/CR_ML_Checkpoint.h5\n",
      "Epoch 2/10\n",
      "3/3 [==============================] - 0s 35ms/step - loss: 0.0493 - accuracy: 0.0345 - mse: 0.1018 - mae: 0.2739 - mape: 283.3051 - val_loss: 0.0380 - val_accuracy: 0.0000e+00 - val_mse: 0.0777 - val_mae: 0.2440 - val_mape: 122.8183\n",
      "\n",
      "Epoch 00002: val_loss improved from 0.04959 to 0.03796, saving model to .//Model/CR_ML_Checkpoint.h5\n",
      "Epoch 3/10\n",
      "3/3 [==============================] - 0s 45ms/step - loss: 0.0333 - accuracy: 0.0778 - mse: 0.0680 - mae: 0.2233 - mape: 207.4511 - val_loss: 0.0121 - val_accuracy: 0.9000 - val_mse: 0.0244 - val_mae: 0.1291 - val_mape: 37.6421\n",
      "\n",
      "Epoch 00003: val_loss improved from 0.03796 to 0.01210, saving model to .//Model/CR_ML_Checkpoint.h5\n",
      "Epoch 4/10\n",
      "3/3 [==============================] - 0s 118ms/step - loss: 0.0121 - accuracy: 0.5991 - mse: 0.0246 - mae: 0.1269 - mape: 80.2806 - val_loss: 0.0097 - val_accuracy: 0.9000 - val_mse: 0.0196 - val_mae: 0.1096 - val_mape: 79.4818\n",
      "\n",
      "Epoch 00004: val_loss improved from 0.01210 to 0.00971, saving model to .//Model/CR_ML_Checkpoint.h5\n",
      "Epoch 5/10\n",
      "3/3 [==============================] - 0s 36ms/step - loss: 0.0118 - accuracy: 0.2937 - mse: 0.0240 - mae: 0.1162 - mape: 225.6822 - val_loss: 0.0116 - val_accuracy: 0.0000e+00 - val_mse: 0.0235 - val_mae: 0.1222 - val_mape: 99.6707\n",
      "\n",
      "Epoch 00005: val_loss did not improve from 0.00971\n",
      "Epoch 6/10\n",
      "3/3 [==============================] - 0s 36ms/step - loss: 0.0122 - accuracy: 0.0278 - mse: 0.0247 - mae: 0.1246 - mape: 219.6885 - val_loss: 0.0068 - val_accuracy: 0.1000 - val_mse: 0.0138 - val_mae: 0.0934 - val_mape: 57.2006\n",
      "\n",
      "Epoch 00006: val_loss improved from 0.00971 to 0.00685, saving model to .//Model/CR_ML_Checkpoint.h5\n",
      "Epoch 7/10\n",
      "3/3 [==============================] - 0s 34ms/step - loss: 0.0083 - accuracy: 0.2043 - mse: 0.0167 - mae: 0.1007 - mape: 123.6680 - val_loss: 0.0036 - val_accuracy: 0.9000 - val_mse: 0.0072 - val_mae: 0.0615 - val_mape: 21.3082\n",
      "\n",
      "Epoch 00007: val_loss improved from 0.00685 to 0.00359, saving model to .//Model/CR_ML_Checkpoint.h5\n",
      "Epoch 8/10\n",
      "3/3 [==============================] - 0s 35ms/step - loss: 0.0060 - accuracy: 0.5991 - mse: 0.0121 - mae: 0.0781 - mape: 33.7996 - val_loss: 0.0036 - val_accuracy: 0.9000 - val_mse: 0.0072 - val_mae: 0.0644 - val_mape: 22.1779\n",
      "\n",
      "Epoch 00008: val_loss did not improve from 0.00359\n",
      "Epoch 9/10\n",
      "3/3 [==============================] - 0s 34ms/step - loss: 0.0057 - accuracy: 0.5991 - mse: 0.0114 - mae: 0.0754 - mape: 62.6870 - val_loss: 0.0042 - val_accuracy: 0.9000 - val_mse: 0.0083 - val_mae: 0.0754 - val_mape: 31.6126\n",
      "\n",
      "Epoch 00009: val_loss did not improve from 0.00359\n",
      "Epoch 10/10\n",
      "3/3 [==============================] - 0s 39ms/step - loss: 0.0055 - accuracy: 0.5874 - mse: 0.0112 - mae: 0.0808 - mape: 92.5806 - val_loss: 0.0031 - val_accuracy: 0.9000 - val_mse: 0.0062 - val_mae: 0.0628 - val_mape: 27.4492\n",
      "\n",
      "Epoch 00010: val_loss improved from 0.00359 to 0.00307, saving model to .//Model/CR_ML_Checkpoint.h5\n"
     ]
    },
    {
     "name": "stderr",
     "output_type": "stream",
     "text": [
      "INFO:root:accuracy: 0.90000\n",
      "INFO:root:mse: 0.00616\n",
      "INFO:root:mae: 0.06280\n",
      "INFO:root:mape: 27.44915\n",
      "INFO:root:\u001b[3;33mTime consumption : 0.0622 min\u001b[0;m\n"
     ]
    },
    {
     "name": "stdout",
     "output_type": "stream",
     "text": [
      "CPU times: user 3.54 s, sys: 310 ms, total: 3.85 s\n",
      "Wall time: 3.75 s\n"
     ]
    }
   ],
   "source": [
    "%%time\n",
    "from script import ML_Training as ML\n",
    "importlib.reload(ML)\n",
    "\n",
    "ML.ML_Training(input_train,input_test,source_train,source_test,EPOCH=10, save_path=\"./\")"
   ]
  },
  {
   "cell_type": "markdown",
   "id": "advisory-technician",
   "metadata": {},
   "source": [
    "- 3:Using   \n",
    "    `ML.Load_ML_Training(input_train,input_test,source_train,source_test,model_path=\"./Model/CR_ML.h5\", EPOCH = 250, BATCH = 256, save_path=\"./\")`  \n",
    "    to retrain a model in 6 $\\sigma$ CL region."
   ]
  },
  {
   "cell_type": "code",
   "execution_count": 163,
   "id": "chicken-contact",
   "metadata": {},
   "outputs": [
    {
     "name": "stderr",
     "output_type": "stream",
     "text": [
      "INFO:root:Fri Aug 06 02:25:08 2021\n",
      "INFO:root:\u001b[3;33mPrepare Ratio\u001b[0;m\n",
      "INFO:root:Fri Aug 06 02:25:08 2021\n",
      "INFO:root:Whitening\n",
      "INFO:root:=====START=====\n",
      "INFO:root:\u001b[3;33m Time Cost for this Step : 0.0000 min\u001b[0;m\n",
      "INFO:root:=====Finish=====\n",
      "INFO:root:\u001b[3;33mTime Cost : 0.0001 min\u001b[0;m\n",
      "INFO:root:random split traning sample and test sample, 10% for test\n",
      "INFO:root:=====START=====\n",
      "INFO:root:\u001b[3;33m Time Cost for this Step : 0.0000 min\u001b[0;m\n",
      "INFO:root:=====Finish=====\n",
      "INFO:root:Shape for training Input: (58, 8, 84)\n",
      "INFO:root:Shape for  testing Input: (7, 8, 84)\n",
      "INFO:root:Shape for training Target: (58, 10)\n",
      "INFO:root:Shape for  testing Target: (7, 10)\n",
      "INFO:root:\u001b[3;33mTime Cost : 0.0004 min\u001b[0;m\n",
      "INFO:root:Fri Aug 06 02:25:08 2021\n"
     ]
    },
    {
     "name": "stdout",
     "output_type": "stream",
     "text": [
      "Model: \"Sequential\"\n",
      "_________________________________________________________________\n",
      "Layer (type)                 Output Shape              Param #   \n",
      "=================================================================\n",
      "Conv1D_input (Conv1D)        (None, 8, 512)            43520     \n",
      "_________________________________________________________________\n",
      "Conv1D_1 (Conv1D)            (None, 8, 512)            262656    \n",
      "_________________________________________________________________\n",
      "Conv1D_2 (Conv1D)            (None, 8, 256)            131328    \n",
      "_________________________________________________________________\n",
      "Conv1D_3 (Conv1D)            (None, 8, 256)            65792     \n",
      "_________________________________________________________________\n",
      "Conv1D_4 (Conv1D)            (None, 8, 128)            32896     \n",
      "_________________________________________________________________\n",
      "max_pooling1d_3 (MaxPooling1 (None, 4, 128)            0         \n",
      "_________________________________________________________________\n",
      "flatten_3 (Flatten)          (None, 512)               0         \n",
      "_________________________________________________________________\n",
      "Dense_1 (Dense)              (None, 128)               65664     \n",
      "_________________________________________________________________\n",
      "Dense_2 (Dense)              (None, 128)               16512     \n",
      "_________________________________________________________________\n",
      "Dense_3 (Dense)              (None, 64)                8256      \n",
      "_________________________________________________________________\n",
      "Dense_4 (Dense)              (None, 64)                4160      \n",
      "_________________________________________________________________\n",
      "Dense_5 (Dense)              (None, 32)                2080      \n",
      "_________________________________________________________________\n",
      "Dense_out (Dense)            (None, 10)                330       \n",
      "=================================================================\n",
      "Total params: 633,194\n",
      "Trainable params: 633,194\n",
      "Non-trainable params: 0\n",
      "_________________________________________________________________\n",
      "Epoch 1/10\n",
      "1/1 [==============================] - 1s 1s/step - loss: 0.0044 - accuracy: 0.6379 - mse: 0.0088 - mae: 0.0663 - mape: 56.0304 - val_loss: 0.0032 - val_accuracy: 0.8571 - val_mse: 0.0065 - val_mae: 0.0631 - val_mape: 21.1734\n",
      "\n",
      "Epoch 00001: val_loss improved from inf to 0.00323, saving model to .//Model/CR_ML_Checkpoint_2nd.h5\n",
      "Epoch 2/10\n",
      "1/1 [==============================] - 1s 611ms/step - loss: 0.0042 - accuracy: 0.6379 - mse: 0.0086 - mae: 0.0652 - mape: 56.8508 - val_loss: 0.0032 - val_accuracy: 0.0000e+00 - val_mse: 0.0064 - val_mae: 0.0607 - val_mape: 21.1515\n",
      "\n",
      "Epoch 00002: val_loss improved from 0.00323 to 0.00317, saving model to .//Model/CR_ML_Checkpoint_2nd.h5\n",
      "Epoch 3/10\n",
      "1/1 [==============================] - 0s 46ms/step - loss: 0.0042 - accuracy: 0.0172 - mse: 0.0085 - mae: 0.0640 - mape: 61.1621 - val_loss: 0.0031 - val_accuracy: 0.0000e+00 - val_mse: 0.0063 - val_mae: 0.0588 - val_mape: 22.0320\n",
      "\n",
      "Epoch 00003: val_loss improved from 0.00317 to 0.00312, saving model to .//Model/CR_ML_Checkpoint_2nd.h5\n",
      "Epoch 4/10\n",
      "1/1 [==============================] - 0s 45ms/step - loss: 0.0042 - accuracy: 0.0172 - mse: 0.0086 - mae: 0.0634 - mape: 68.6261 - val_loss: 0.0032 - val_accuracy: 0.2857 - val_mse: 0.0063 - val_mae: 0.0602 - val_mape: 24.2115\n",
      "\n",
      "Epoch 00004: val_loss did not improve from 0.00312\n",
      "Epoch 5/10\n",
      "1/1 [==============================] - 0s 46ms/step - loss: 0.0043 - accuracy: 0.1552 - mse: 0.0087 - mae: 0.0643 - mape: 76.6291 - val_loss: 0.0032 - val_accuracy: 0.8571 - val_mse: 0.0065 - val_mae: 0.0610 - val_mape: 25.6527\n",
      "\n",
      "Epoch 00005: val_loss did not improve from 0.00312\n",
      "Epoch 6/10\n",
      "1/1 [==============================] - 0s 44ms/step - loss: 0.0044 - accuracy: 0.6379 - mse: 0.0089 - mae: 0.0659 - mape: 81.2493 - val_loss: 0.0032 - val_accuracy: 0.8571 - val_mse: 0.0065 - val_mae: 0.0601 - val_mape: 25.4217\n",
      "\n",
      "Epoch 00006: val_loss did not improve from 0.00312\n",
      "Epoch 7/10\n",
      "1/1 [==============================] - 0s 43ms/step - loss: 0.0044 - accuracy: 0.6379 - mse: 0.0088 - mae: 0.0651 - mape: 79.8024 - val_loss: 0.0031 - val_accuracy: 0.8571 - val_mse: 0.0063 - val_mae: 0.0571 - val_mape: 23.5007\n",
      "\n",
      "Epoch 00007: val_loss improved from 0.00312 to 0.00312, saving model to .//Model/CR_ML_Checkpoint_2nd.h5\n",
      "Epoch 8/10\n",
      "1/1 [==============================] - 0s 45ms/step - loss: 0.0042 - accuracy: 0.6379 - mse: 0.0084 - mae: 0.0625 - mape: 72.4537 - val_loss: 0.0031 - val_accuracy: 0.8571 - val_mse: 0.0061 - val_mae: 0.0561 - val_mape: 21.7669\n",
      "\n",
      "Epoch 00008: val_loss improved from 0.00312 to 0.00305, saving model to .//Model/CR_ML_Checkpoint_2nd.h5\n",
      "Epoch 9/10\n",
      "1/1 [==============================] - 0s 45ms/step - loss: 0.0040 - accuracy: 0.6379 - mse: 0.0081 - mae: 0.0626 - mape: 62.6049 - val_loss: 0.0031 - val_accuracy: 0.8571 - val_mse: 0.0062 - val_mae: 0.0574 - val_mape: 20.5346\n",
      "\n",
      "Epoch 00009: val_loss did not improve from 0.00305\n",
      "Epoch 10/10\n",
      "1/1 [==============================] - 0s 44ms/step - loss: 0.0040 - accuracy: 0.6379 - mse: 0.0080 - mae: 0.0644 - mape: 53.1097 - val_loss: 0.0030 - val_accuracy: 0.8571 - val_mse: 0.0061 - val_mae: 0.0568 - val_mape: 19.2018\n",
      "\n",
      "Epoch 00010: val_loss improved from 0.00305 to 0.00303, saving model to .//Model/CR_ML_Checkpoint_2nd.h5\n"
     ]
    },
    {
     "name": "stderr",
     "output_type": "stream",
     "text": [
      "INFO:root:accuracy: 0.85714\n",
      "INFO:root:mse: 0.00610\n",
      "INFO:root:mae: 0.05680\n",
      "INFO:root:mape: 19.20176\n",
      "INFO:root:\u001b[3;33mTime consumption : 0.0543 min\u001b[0;m\n"
     ]
    }
   ],
   "source": [
    "\n",
    "data_processing = CR.Mock_Data_Processing(parameter=para_6_sigma, data=data_6_sigma, usedata = True)\n",
    "data_processing.Train_Test_split(splitrate = 0.1, split = True)\n",
    "\n",
    "input_train, input_test = data_processing.input_train, data_processing.input_test\n",
    "source_train, source_test = data_processing.source_train, data_processing.source_test\n",
    "\n",
    "\n",
    "ML.Load_ML_Training(input_train,input_test,source_train,source_test,model_path=\"./Model/CR_ML.h5\", EPOCH = 10, BATCH = 256, save_path=\"./\")"
   ]
  },
  {
   "cell_type": "code",
   "execution_count": 148,
   "id": "civic-bathroom",
   "metadata": {},
   "outputs": [
    {
     "name": "stdout",
     "output_type": "stream",
     "text": [
      "Help on class Select_Sample in module script.CR_ML_Class:\n",
      "\n",
      "class Select_Sample(builtins.object)\n",
      " |  Methods defined here:\n",
      " |  \n",
      " |  Sample(self)\n",
      " |      Usage: \n",
      " |          Select_Sample(parameter, data, total_chisq_list, sigma).Sample()\n",
      " |      Return:\n",
      " |          para_sigma, data_sigma, chi_sigma\n",
      " |      Item:\n",
      " |          Null\n",
      " |  \n",
      " |  __init__(self, parameter=[], data=[], total_chisq_list=[], sigma=[])\n",
      " |      Usage: \n",
      " |          Select_Sample(parameter, data, total_chisq_list, sigma)\n",
      " |      Return:\n",
      " |          Null\n",
      " |      Item:\n",
      " |          Null\n",
      " |  \n",
      " |  ----------------------------------------------------------------------\n",
      " |  Data descriptors defined here:\n",
      " |  \n",
      " |  __dict__\n",
      " |      dictionary for instance variables (if defined)\n",
      " |  \n",
      " |  __weakref__\n",
      " |      list of weak references to the object (if defined)\n",
      "\n"
     ]
    }
   ],
   "source": [
    "importlib.reload(CR)\n",
    "\n",
    "help(CR.Select_Sample)"
   ]
  },
  {
   "cell_type": "code",
   "execution_count": null,
   "id": "sharp-halloween",
   "metadata": {},
   "outputs": [],
   "source": []
  }
 ],
 "metadata": {
  "kernelspec": {
   "display_name": "Python 3",
   "language": "python",
   "name": "python3"
  },
  "language_info": {
   "codemirror_mode": {
    "name": "ipython",
    "version": 3
   },
   "file_extension": ".py",
   "mimetype": "text/x-python",
   "name": "python",
   "nbconvert_exporter": "python",
   "pygments_lexer": "ipython3",
   "version": "3.6.8"
  }
 },
 "nbformat": 4,
 "nbformat_minor": 5
}
