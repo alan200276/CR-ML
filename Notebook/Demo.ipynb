{
 "cells": [
  {
   "cell_type": "markdown",
   "id": "irish-stewart",
   "metadata": {},
   "source": [
    "# CR ML Road Map\n",
    "\n",
    "\n",
    "- Step 1:\n",
    "    - TBA\n",
    "- Step 2:\n",
    "    - TBA \n",
    "- Step 3:\n",
    "    - TBA"
   ]
  },
  {
   "cell_type": "markdown",
   "id": "liquid-parliament",
   "metadata": {},
   "source": [
    "## Import Packages"
   ]
  },
  {
   "cell_type": "code",
   "execution_count": 2,
   "id": "dense-rover",
   "metadata": {},
   "outputs": [
    {
     "name": "stdout",
     "output_type": "stream",
     "text": [
      "Tensorflow Version is 2.4.1\n",
      "Keras Version is 2.4.0\n",
      "/bin/bash: nvudia-smi: command not found\n"
     ]
    }
   ],
   "source": [
    "from __future__ import absolute_import, division, print_function, unicode_literals\n",
    "# basic python package\n",
    "import importlib\n",
    "import numpy as np\n",
    "import time\n",
    "import logging\n",
    "importlib.reload(logging)\n",
    "logging.basicConfig(level = logging.INFO)\n",
    "\n",
    "# python ploting packages\n",
    "import matplotlib.pyplot as plt\n",
    "from matplotlib.ticker import MaxNLocator\n",
    "from matplotlib.colors import ListedColormap, LinearSegmentedColormap, BoundaryNorm\n",
    "from matplotlib.collections import LineCollection\n",
    "from matplotlib import cm\n",
    "\n",
    "\n",
    "# self-define classes\n",
    "from script import CR_ML_Class as CR\n",
    "from script import load_mock_data as LD\n",
    "\n",
    "\n",
    "# tensorflow\n",
    "import tensorflow as tf\n",
    "from tensorflow.keras.models import Sequential, load_model\n",
    "print(\"Tensorflow Version is {}\".format(tf.__version__))\n",
    "print(\"Keras Version is {}\".format(tf.keras.__version__))\n",
    "!nvudia-smi"
   ]
  },
  {
   "cell_type": "markdown",
   "id": "selective-accounting",
   "metadata": {},
   "source": [
    "## Transfrom Mock Data from Text File to Numpy Dataframe \n",
    "\n",
    "- Data Description:\n",
    "\n",
    "\n",
    "    - parameter : propagation and source parameters \n",
    "        numpy shape: (# of mock data, 14)\n",
    "            #parameter: original parameter \n",
    "            #new_parameter: recalculate the normal factor and Ap \n",
    "\n",
    "            raw1=D_0, \n",
    "            raw2=\\delta, \n",
    "            raw3=z_h, \n",
    "            raw4=v_A, \n",
    "            raw5=\\eta, \n",
    "            raw6=A_p, \n",
    "            raw7=\\nu_1, \n",
    "            raw8=\\nu_2, \n",
    "            raw9=log10(R_{br,1}), \n",
    "            raw10=\\nu_3, \n",
    "            raw11=log10(R_{br,2}), \n",
    "            raw12=N_{Li}, \n",
    "            raw13=N_{Be}, \n",
    "            raw14=N_{O}\n",
    "\n",
    "\n",
    "    - data: Mock data\n",
    "        numpy shape: (# of mock data, 84, 6)\n",
    "            84 means there are 84 energy bins from 1.000e-03 to 1.105e+05\n",
    "            6 means there are the spectrum for E, Li, Be, B, C, O\n",
    "            #data_0: original mocak data\n",
    "            #modify_data_0: reshape data accroding to recalculated parameters\n",
    "\n",
    "\n",
    "     - chi: chi-square \n",
    "        numpy shape: (# of mock data)\n",
    "            #new_chi: chi-square from \"modify_data\""
   ]
  },
  {
   "cell_type": "code",
   "execution_count": 130,
   "id": "unlimited-digest",
   "metadata": {},
   "outputs": [
    {
     "name": "stderr",
     "output_type": "stream",
     "text": [
      "INFO:root:Fri Aug 06 01:57:17 2021\n",
      "INFO:root:Now loading...\n",
      "INFO:root:Total data: 30000\n",
      "INFO:root:\u001b[3;33mTime consumption : 0.4208 min\u001b[0;m\n",
      "INFO:root:Data Shape for 'parameter': (30000, 15)\n",
      "INFO:root:Data Shape for 'data': (2520000, 11)\n",
      "INFO:root:Data Shape for 'chisq': (30000,)\n"
     ]
    },
    {
     "name": "stdout",
     "output_type": "stream",
     "text": [
      "CPU times: user 25.1 s, sys: 536 ms, total: 25.7 s\n",
      "Wall time: 25.7 s\n"
     ]
    }
   ],
   "source": [
    "%%time\n",
    "text_Data_path = \"../Data/Text_Mock_data/\"\n",
    "\n",
    "# mockdata_1 = CR.Mock_Data_to_NumpyArray(text_Data_path + \"res_3x_1.txt\")\n",
    "mockdata_1 = CR.Mock_Data_to_NumpyArray(text_Data_path + \"return_4.txt\")\n",
    "origin_parameter, data, chisq = mockdata_1.parameter, mockdata_1.spectrum, mockdata_1.chisq\n",
    "\n",
    "logging.info(\"Data Shape for 'parameter': {}\".format(origin_parameter.shape))\n",
    "logging.info(\"Data Shape for 'data': {}\".format(data.shape))\n",
    "logging.info(\"Data Shape for 'chisq': {}\".format(chisq.shape))"
   ]
  },
  {
   "cell_type": "markdown",
   "id": "framed-virus",
   "metadata": {},
   "source": [
    "## ReCalculate Normalized Factor for Mock Data\n",
    "\n",
    "- 1: Using   \n",
    "    `CR.Mock_Data_Rescale(parameter, parameter, data)`   \n",
    "    to split 'data' into Li, Be, B, C and O `spectra`.  \n",
    "    Note that we put the same 'parameter' here because we have not get new normalized factor yet\n",
    "    \n",
    "    - `spectra`: Mock data\n",
    "        numpy shape: (# of mock data, 84, 6)\n",
    "            84 means there are 84 energy bins from 1.000e-03 to 1.105e+05\n",
    "            6 means there are the spectrum for E, Li, Be, B, C, O\n",
    "            #data_0: original mocak data\n",
    "            #modify_data_0: reshape data accroding to recalculated paramete"
   ]
  },
  {
   "cell_type": "code",
   "execution_count": 131,
   "id": "portuguese-albuquerque",
   "metadata": {},
   "outputs": [
    {
     "name": "stderr",
     "output_type": "stream",
     "text": [
      "INFO:root:Data Shape for 'spectra_data': (30000, 84, 6)\n",
      "INFO:root:There are 30000 mock data.\n",
      "INFO:root:For each mock data, there are 84 energy bins.\n",
      "INFO:root:6 corresponding to E, Li, Be, B, C and O.\n"
     ]
    },
    {
     "name": "stdout",
     "output_type": "stream",
     "text": [
      "CPU times: user 172 ms, sys: 24 ms, total: 196 ms\n",
      "Wall time: 195 ms\n"
     ]
    }
   ],
   "source": [
    "%%time\n",
    "spectra_data = CR.Mock_Data_Rescale(origin_parameter=origin_parameter, new_parameter=origin_parameter, spectrum=data, usedata=False)\n",
    "logging.info(\"Data Shape for 'spectra_data': {}\".format(spectra_data.data.shape))\n",
    "logging.info(\"There are {} mock data.\".format(spectra_data.data.shape[0]))\n",
    "logging.info(\"For each mock data, there are {} energy bins.\".format(spectra_data.data.shape[1]))\n",
    "logging.info(\"{} corresponding to E, Li, Be, B, C and O.\".format(spectra_data.data.shape[2]))"
   ]
  },
  {
   "cell_type": "markdown",
   "id": "turkish-humanitarian",
   "metadata": {},
   "source": [
    "- 2: Using  \n",
    "`CR.ReCalculateAp(spectra_data.data)`   \n",
    "  to recalculate Ap"
   ]
  },
  {
   "cell_type": "code",
   "execution_count": 132,
   "id": "studied-february",
   "metadata": {},
   "outputs": [
    {
     "name": "stderr",
     "output_type": "stream",
     "text": [
      "INFO:root:Fri Aug 06 01:57:43 2021\n",
      "INFO:root:Finding best Ap\n",
      "INFO:root:=====START=====\n",
      "100%|██████████| 100/100 [00:00<00:00, 111.24it/s]\n",
      "INFO:root:\u001b[3;33m Time Cost for this Step : 0.0150 min\u001b[0;m\n",
      "INFO:root:=====Finish=====\n",
      "INFO:root:\u001b[3;33mTime Cost : 0.0152 min\u001b[0;m\n"
     ]
    },
    {
     "name": "stdout",
     "output_type": "stream",
     "text": [
      "CPU times: user 908 ms, sys: 7.98 ms, total: 916 ms\n",
      "Wall time: 919 ms\n"
     ]
    }
   ],
   "source": [
    "%%time\n",
    "importlib.reload(CR)\n",
    "new_Ap = CR.ReCalculateAp(spectra_data.data[:100]) \n",
    "new_Ap.GetBestAp()"
   ]
  },
  {
   "cell_type": "markdown",
   "id": "protective-assist",
   "metadata": {},
   "source": [
    "- 3: Using   \n",
    "`CR.ReCalculateN((spectra_data.new_parameter,spectra_data.data,ap=new_Ap.ap_5))`  \n",
    "to recalculate normalized factor ($N_{Li}$, $N_{Be}$ and $N_{O}$)"
   ]
  },
  {
   "cell_type": "code",
   "execution_count": 138,
   "id": "wanted-sweden",
   "metadata": {},
   "outputs": [
    {
     "name": "stderr",
     "output_type": "stream",
     "text": [
      "INFO:root:Fri Aug 06 01:59:41 2021\n",
      "INFO:root:Finding New Normalized Factor\n",
      "INFO:root:=====START=====\n",
      "100%|██████████| 100/100 [00:01<00:00, 80.12it/s]\n",
      "INFO:root:\u001b[3;33m Time Cost for this Step : 0.0208 min\u001b[0;m\n",
      "INFO:root:=====Finish=====\n",
      "INFO:root:\u001b[3;33mTime Cost : 0.0211 min\u001b[0;m\n"
     ]
    },
    {
     "name": "stdout",
     "output_type": "stream",
     "text": [
      "CPU times: user 1.27 s, sys: 5.93 ms, total: 1.27 s\n",
      "Wall time: 1.27 s\n"
     ]
    }
   ],
   "source": [
    "%%time\n",
    "importlib.reload(CR)\n",
    "new_normalized_factor = CR.ReCalculateN(spectra_data.new_parameter[:100],spectra_data.data[:100],ap=new_Ap.ap_5)\n",
    "new_normalized_factor.GetBestN()"
   ]
  },
  {
   "cell_type": "markdown",
   "id": "eight-theta",
   "metadata": {},
   "source": [
    "- 4: Using   \n",
    "    `CR.New_Parameter(spectra_data.new_parameter,new_normalized_factor.new_factor,ap_5=new_Ap.ap_5).new_parameter`\n",
    "    to get new parameter array"
   ]
  },
  {
   "cell_type": "code",
   "execution_count": 143,
   "id": "informational-intro",
   "metadata": {},
   "outputs": [
    {
     "name": "stderr",
     "output_type": "stream",
     "text": [
      "INFO:root:Fri Aug 06 02:00:36 2021\n",
      "INFO:root:\u001b[3;33mTime Cost : 0.0000 min\u001b[0;m\n"
     ]
    },
    {
     "name": "stdout",
     "output_type": "stream",
     "text": [
      "CPU times: user 2.67 ms, sys: 6 µs, total: 2.68 ms\n",
      "Wall time: 1.98 ms\n"
     ]
    }
   ],
   "source": [
    "%%time\n",
    "new_parameter = CR.New_Parameter(spectra_data.new_parameter[:100],new_normalized_factor.new_factor,ap_5=new_Ap.ap_5).new_parameter"
   ]
  },
  {
   "cell_type": "markdown",
   "id": "agreed-direction",
   "metadata": {},
   "source": [
    "- 5: Put `origin_parameter` and `new_parameter` back into  \n",
    "    `CR.Mock_Data_Rescale(parameter, new_parameter, spectra_data.data,usedata = True)`  \n",
    "    to get `new parameter` array, `new data` array and new $\\chi^2$`. "
   ]
  },
  {
   "cell_type": "code",
   "execution_count": 144,
   "id": "defined-maldives",
   "metadata": {},
   "outputs": [
    {
     "name": "stderr",
     "output_type": "stream",
     "text": [
      "INFO:root:Fri Aug 06 02:00:37 2021\n",
      "INFO:root:Fit the Spectrum.\n",
      "INFO:root:=====START=====\n",
      "INFO:root:\u001b[3;33m Time Cost for this Step : 0.0001 min\u001b[0;m\n",
      "INFO:root:=====Finish=====\n",
      "INFO:root:Calculate Chi-Square.\n",
      "INFO:root:=====START=====\n",
      "INFO:root:\u001b[3;33m Time Cost for this Step : 0.0001 min\u001b[0;m\n",
      "INFO:root:=====Finish=====\n",
      "INFO:root:\n",
      "\n",
      "INFO:root:\u001b[3;33m Total Time Consumption : 0.0004 min\u001b[0;m\n",
      "INFO:root:Data Shape for 'parameter': (100, 14)\n",
      "INFO:root:Data Shape for 'data': (100, 84, 6)\n",
      "INFO:root:Data Shape for 'chi': (100,)\n"
     ]
    },
    {
     "name": "stdout",
     "output_type": "stream",
     "text": [
      "CPU times: user 28.1 ms, sys: 3.04 ms, total: 31.1 ms\n",
      "Wall time: 27.4 ms\n"
     ]
    }
   ],
   "source": [
    "%%time\n",
    "new_spectra_data = CR.Mock_Data_Rescale(origin_parameter[:100], new_parameter, spectra_data.data[:100], usedata = True)\n",
    "\n",
    "parameter = new_spectra_data.new_parameter\n",
    "data = new_spectra_data.data\n",
    "\n",
    "chisq = CR.Calculate_Chi_Square(data=data,usedata=True) \n",
    "chi = chisq.chi_square()\n",
    "\n",
    "logging.info(\"Data Shape for 'parameter': {}\".format(parameter.shape))\n",
    "logging.info(\"Data Shape for 'data': {}\".format(data.shape))\n",
    "logging.info(\"Data Shape for 'chi': {}\".format(chi.shape))"
   ]
  },
  {
   "cell_type": "markdown",
   "id": "grateful-genesis",
   "metadata": {},
   "source": [
    "- 6: Using  \n",
    "    `CR.Select_Sample(chi_para, chi_data, chi_sele,1).Sample()`  \n",
    "    to seperate data into different CL region."
   ]
  },
  {
   "cell_type": "code",
   "execution_count": 147,
   "id": "moving-institute",
   "metadata": {},
   "outputs": [
    {
     "name": "stderr",
     "output_type": "stream",
     "text": [
      "INFO:root:There are 5 data in the 1 σ region.\n",
      "INFO:root:\u001b[3;33mTime consumption : 0.0000 min\u001b[0;m\n",
      "INFO:root:There are 9 data in the 2 σ region.\n",
      "INFO:root:\u001b[3;33mTime consumption : 0.0000 min\u001b[0;m\n",
      "INFO:root:There are 20 data in the 3 σ region.\n",
      "INFO:root:\u001b[3;33mTime consumption : 0.0000 min\u001b[0;m\n",
      "INFO:root:There are 35 data in the 4 σ region.\n",
      "INFO:root:\u001b[3;33mTime consumption : 0.0000 min\u001b[0;m\n",
      "INFO:root:There are 46 data in the 5 σ region.\n",
      "INFO:root:\u001b[3;33mTime consumption : 0.0000 min\u001b[0;m\n",
      "INFO:root:There are 65 data in the 6 σ region.\n",
      "INFO:root:\u001b[3;33mTime consumption : 0.0000 min\u001b[0;m\n"
     ]
    },
    {
     "name": "stdout",
     "output_type": "stream",
     "text": [
      "CPU times: user 17.8 ms, sys: 3.97 ms, total: 21.8 ms\n",
      "Wall time: 18.1 ms\n"
     ]
    }
   ],
   "source": [
    "%%time\n",
    "importlib.reload(CR)\n",
    "chi_para, chi_data, chi_sele = parameter, data, chi\n",
    "\n",
    "para_1_sigma, data_1_sigma, _ =  CR.Select_Sample(chi_para, chi_data, chi_sele,1).Sample()\n",
    "para_2_sigma, data_2_sigma, _ =  CR.Select_Sample(chi_para, chi_data, chi_sele,2).Sample()\n",
    "para_3_sigma, data_3_sigma, _ =  CR.Select_Sample(chi_para, chi_data, chi_sele,3).Sample()\n",
    "para_4_sigma, data_4_sigma, _ =  CR.Select_Sample(chi_para, chi_data, chi_sele,4).Sample()\n",
    "para_5_sigma, data_5_sigma, _ =  CR.Select_Sample(chi_para, chi_data, chi_sele,5).Sample()\n",
    "para_6_sigma, data_6_sigma, _ =  CR.Select_Sample(chi_para, chi_data, chi_sele,6).Sample()"
   ]
  },
  {
   "cell_type": "code",
   "execution_count": 148,
   "id": "referenced-accreditation",
   "metadata": {},
   "outputs": [
    {
     "name": "stdout",
     "output_type": "stream",
     "text": [
      "Help on class Select_Sample in module script.CR_ML_Class:\n",
      "\n",
      "class Select_Sample(builtins.object)\n",
      " |  Methods defined here:\n",
      " |  \n",
      " |  Sample(self)\n",
      " |      Usage: \n",
      " |          Select_Sample(parameter, data, total_chisq_list, sigma).Sample()\n",
      " |      Return:\n",
      " |          para_sigma, data_sigma, chi_sigma\n",
      " |      Item:\n",
      " |          Null\n",
      " |  \n",
      " |  __init__(self, parameter=[], data=[], total_chisq_list=[], sigma=[])\n",
      " |      Usage: \n",
      " |          Select_Sample(parameter, data, total_chisq_list, sigma)\n",
      " |      Return:\n",
      " |          Null\n",
      " |      Item:\n",
      " |          Null\n",
      " |  \n",
      " |  ----------------------------------------------------------------------\n",
      " |  Data descriptors defined here:\n",
      " |  \n",
      " |  __dict__\n",
      " |      dictionary for instance variables (if defined)\n",
      " |  \n",
      " |  __weakref__\n",
      " |      list of weak references to the object (if defined)\n",
      "\n"
     ]
    }
   ],
   "source": [
    "importlib.reload(CR)\n",
    "\n",
    "help(CR.Select_Sample)"
   ]
  },
  {
   "cell_type": "code",
   "execution_count": null,
   "id": "above-strap",
   "metadata": {},
   "outputs": [],
   "source": []
  }
 ],
 "metadata": {
  "kernelspec": {
   "display_name": "Python 3",
   "language": "python",
   "name": "python3"
  },
  "language_info": {
   "codemirror_mode": {
    "name": "ipython",
    "version": 3
   },
   "file_extension": ".py",
   "mimetype": "text/x-python",
   "name": "python",
   "nbconvert_exporter": "python",
   "pygments_lexer": "ipython3",
   "version": "3.6.8"
  }
 },
 "nbformat": 4,
 "nbformat_minor": 5
}
