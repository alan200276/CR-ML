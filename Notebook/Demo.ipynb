{
 "cells": [
  {
   "cell_type": "markdown",
   "id": "grateful-empire",
   "metadata": {},
   "source": [
    "# CR ML Road Map\n",
    "\n",
    "\n",
    "- Step 1:\n",
    "    - TBA\n",
    "- Step 2:\n",
    "    - TBA \n",
    "- Step 3:\n",
    "    - TBA"
   ]
  },
  {
   "cell_type": "markdown",
   "id": "aquatic-somerset",
   "metadata": {},
   "source": [
    "## Import Packages"
   ]
  },
  {
   "cell_type": "code",
   "execution_count": 2,
   "id": "directed-castle",
   "metadata": {},
   "outputs": [
    {
     "name": "stdout",
     "output_type": "stream",
     "text": [
      "Tensorflow Version is 2.4.1\n",
      "Keras Version is 2.4.0\n",
      "/bin/bash: nvudia-smi: command not found\n"
     ]
    }
   ],
   "source": [
    "from __future__ import absolute_import, division, print_function, unicode_literals\n",
    "# basic python package\n",
    "import importlib\n",
    "import numpy as np\n",
    "import time\n",
    "import logging\n",
    "importlib.reload(logging)\n",
    "logging.basicConfig(level = logging.INFO)\n",
    "\n",
    "# python ploting packages\n",
    "import matplotlib.pyplot as plt\n",
    "from matplotlib.ticker import MaxNLocator\n",
    "from matplotlib.colors import ListedColormap, LinearSegmentedColormap, BoundaryNorm\n",
    "from matplotlib.collections import LineCollection\n",
    "from matplotlib import cm\n",
    "\n",
    "\n",
    "# self-define classes\n",
    "from script import CR_ML_Class as CR\n",
    "from script import load_mock_data as LD\n",
    "\n",
    "\n",
    "# tensorflow\n",
    "import tensorflow as tf\n",
    "from tensorflow.keras.models import Sequential, load_model\n",
    "print(\"Tensorflow Version is {}\".format(tf.__version__))\n",
    "print(\"Keras Version is {}\".format(tf.keras.__version__))\n",
    "!nvudia-smi"
   ]
  },
  {
   "cell_type": "markdown",
   "id": "occupational-october",
   "metadata": {},
   "source": [
    "## Transfrom Mock Data from Text File to Numpy Dataframe \n",
    "\n",
    "- Data Description:\n",
    "\n",
    "\n",
    "    - parameter : propagation and source parameters \n",
    "        numpy shape: (# of mock data, 14)\n",
    "            #parameter: original parameter \n",
    "            #new_parameter: recalculate the normal factor and Ap \n",
    "\n",
    "            raw1=D_0, \n",
    "            raw2=\\delta, \n",
    "            raw3=z_h, \n",
    "            raw4=v_A, \n",
    "            raw5=\\eta, \n",
    "            raw6=A_p, \n",
    "            raw7=\\nu_1, \n",
    "            raw8=\\nu_2, \n",
    "            raw9=log10(R_{br,1}), \n",
    "            raw10=\\nu_3, \n",
    "            raw11=log10(R_{br,2}), \n",
    "            raw12=N_{Li}, \n",
    "            raw13=N_{Be}, \n",
    "            raw14=N_{O}\n",
    "\n",
    "\n",
    "    - data: Mock data\n",
    "        numpy shape: (# of mock data, 84, 6)\n",
    "            84 means there are 84 energy bins from 1.000e-03 to 1.105e+05\n",
    "            6 means there are the spectrum for E, Li, Be, B, C, O\n",
    "            #data_0: original mocak data\n",
    "            #modify_data_0: reshape data accroding to recalculated parameters\n",
    "\n",
    "\n",
    "     - chi: chi-square \n",
    "        numpy shape: (# of mock data)\n",
    "            #new_chi: chi-square from \"modify_data\""
   ]
  },
  {
   "cell_type": "code",
   "execution_count": 74,
   "id": "constitutional-third",
   "metadata": {},
   "outputs": [
    {
     "name": "stderr",
     "output_type": "stream",
     "text": [
      "INFO:root:Thu Aug 05 17:27:49 2021\n",
      "INFO:root:Now loading...\n",
      "INFO:root:Total data: 30000\n",
      "INFO:root:\u001b[3;33mTime consumption : 0.4221 min\u001b[0;m\n",
      "INFO:root:Data Shape for 'parameter': (30000, 15)\n",
      "INFO:root:Data Shape for 'data': (2520000, 11)\n",
      "INFO:root:Data Shape for 'chisq': (30000,)\n"
     ]
    },
    {
     "name": "stdout",
     "output_type": "stream",
     "text": [
      "CPU times: user 25.2 s, sys: 566 ms, total: 25.7 s\n",
      "Wall time: 25.7 s\n"
     ]
    }
   ],
   "source": [
    "%%time\n",
    "text_Data_path = \"../Data/Text_Mock_data/\"\n",
    "\n",
    "# mockdata_1 = CR.Mock_Data_to_NumpyArray(text_Data_path + \"res_3x_1.txt\")\n",
    "mockdata_1 = CR.Mock_Data_to_NumpyArray(text_Data_path + \"return_4.txt\")\n",
    "parameter, data, chisq = mockdata_1.parameter, mockdata_1.spectrum, mockdata_1.chisq\n",
    "\n",
    "logging.info(\"Data Shape for 'parameter': {}\".format(parameter.shape))\n",
    "logging.info(\"Data Shape for 'data': {}\".format(data.shape))\n",
    "logging.info(\"Data Shape for 'chisq': {}\".format(chisq.shape))"
   ]
  },
  {
   "cell_type": "markdown",
   "id": "capable-designation",
   "metadata": {},
   "source": [
    "## ReCalculate Normalized Factor for Mock Data\n",
    "\n",
    "- 1: Using \n",
    "    ```\n",
    "    CR.Mock_Data_Rescale(parameter, parameter, data)\n",
    "    ```\n",
    "    to split 'data' into Li, Be, B, C and O `spectra`.  \n",
    "    Note that we put the same 'parameter' here because we have not get new normalized factor yet\n",
    "    \n",
    "    - `spectra`: Mock data\n",
    "        numpy shape: (# of mock data, 84, 6)\n",
    "            84 means there are 84 energy bins from 1.000e-03 to 1.105e+05\n",
    "            6 means there are the spectrum for E, Li, Be, B, C, O\n",
    "            #data_0: original mocak data\n",
    "            #modify_data_0: reshape data accroding to recalculated paramete"
   ]
  },
  {
   "cell_type": "code",
   "execution_count": 75,
   "id": "introductory-island",
   "metadata": {},
   "outputs": [
    {
     "name": "stderr",
     "output_type": "stream",
     "text": [
      "INFO:root:Data Shape for 'spectra_data': (30000, 84, 6)\n",
      "INFO:root:There are 30000 mock data.\n",
      "INFO:root:For each mock data, there are 84 energy bins.\n",
      "INFO:root:6 corresponding to E, Li, Be, B, C and O.\n"
     ]
    },
    {
     "name": "stdout",
     "output_type": "stream",
     "text": [
      "CPU times: user 191 ms, sys: 38.9 ms, total: 230 ms\n",
      "Wall time: 228 ms\n"
     ]
    }
   ],
   "source": [
    "%%time\n",
    "spectra_data = CR.Mock_Data_Rescale(parameter, parameter, data)\n",
    "logging.info(\"Data Shape for 'spectra_data': {}\".format(spectra_data.data.shape))\n",
    "logging.info(\"There are {} mock data.\".format(spectra_data.data.shape[0]))\n",
    "logging.info(\"For each mock data, there are {} energy bins.\".format(spectra_data.data.shape[1]))\n",
    "logging.info(\"{} corresponding to E, Li, Be, B, C and O.\".format(spectra_data.data.shape[2]))"
   ]
  },
  {
   "cell_type": "code",
   "execution_count": 81,
   "id": "modern-filing",
   "metadata": {},
   "outputs": [
    {
     "name": "stderr",
     "output_type": "stream",
     "text": [
      "INFO:root:Thu Aug 05 17:30:49 2021\n",
      "INFO:root:Finding best Ap\n",
      "INFO:root:=====START=====\n",
      "100%|██████████| 100/100 [00:00<00:00, 105.61it/s]\n",
      "INFO:root:\u001b[3;33m Time Cost for this Step : 0.0158 min\u001b[0;m\n",
      "INFO:root:=====Finish=====\n",
      "INFO:root:\u001b[3;33mTime Cost : 0.0160 min\u001b[0;m\n"
     ]
    },
    {
     "name": "stdout",
     "output_type": "stream",
     "text": [
      "CPU times: user 984 ms, sys: 4 ms, total: 988 ms\n",
      "Wall time: 987 ms\n"
     ]
    }
   ],
   "source": [
    "%%time\n",
    "importlib.reload(CR)\n",
    "new_Ap = CR.ReCalculateAp(spectra_data.data[:100]) \n",
    "new_Ap.GetBestAp()"
   ]
  },
  {
   "cell_type": "code",
   "execution_count": 82,
   "id": "enormous-profit",
   "metadata": {},
   "outputs": [
    {
     "name": "stderr",
     "output_type": "stream",
     "text": [
      "INFO:root:Thu Aug 05 17:30:51 2021\n",
      "INFO:root:Finding New Normalized Factor\n",
      "INFO:root:=====START=====\n",
      "100%|██████████| 100/100 [00:01<00:00, 84.40it/s]\n",
      "INFO:root:\u001b[3;33m Time Cost for this Step : 0.0198 min\u001b[0;m\n",
      "INFO:root:=====Finish=====\n",
      "INFO:root:\u001b[3;33mTime Cost : 0.0199 min\u001b[0;m\n"
     ]
    },
    {
     "name": "stdout",
     "output_type": "stream",
     "text": [
      "CPU times: user 1.2 s, sys: 6.94 ms, total: 1.2 s\n",
      "Wall time: 1.2 s\n"
     ]
    }
   ],
   "source": [
    "%%time\n",
    "importlib.reload(CR)\n",
    "new_normalized_factor = CR.ReCalculateN(spectra_data.new_parameter[:100],spectra_data.data[:100],ap=new_Ap.ap_5)\n",
    "new_normalized_factor.GetBestN()"
   ]
  },
  {
   "cell_type": "code",
   "execution_count": null,
   "id": "concerned-district",
   "metadata": {},
   "outputs": [],
   "source": []
  }
 ],
 "metadata": {
  "kernelspec": {
   "display_name": "Python 3",
   "language": "python",
   "name": "python3"
  },
  "language_info": {
   "codemirror_mode": {
    "name": "ipython",
    "version": 3
   },
   "file_extension": ".py",
   "mimetype": "text/x-python",
   "name": "python",
   "nbconvert_exporter": "python",
   "pygments_lexer": "ipython3",
   "version": "3.6.8"
  }
 },
 "nbformat": 4,
 "nbformat_minor": 5
}
